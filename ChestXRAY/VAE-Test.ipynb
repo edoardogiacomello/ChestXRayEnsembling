{
 "cells": [
  {
   "cell_type": "code",
   "execution_count": null,
   "metadata": {
    "collapsed": true
   },
   "outputs": [],
   "source": [
    "\n",
    "import tensorflow as tf\n",
    "from IPython import display\n",
    "import matplotlib.pyplot as plt\n",
    "import numpy as np\n",
    "import time\n",
    "from tqdm import tqdm\n",
    "import cv2 as cv\n",
    "import funcs as ff\n",
    "import os\n",
    "from VAE import VAE\n",
    "from datetime import datetime\n",
    "\n",
    "# check that the environment is fine\n",
    "print('TensorFlow version : ', tf.__version__ )\n",
    "print('NumPy version : ', np.__version__ )\n",
    "print('OpenCV version', cv.__version__)\n",
    "\n",
    "print('gpu list : ', tf.config.list_physical_devices())\n",
    "\n",
    "tf.random.set_seed(42)\n",
    "\n"
   ]
  }
 ],
 "metadata": {
  "kernelspec": {
   "display_name": "Python 3",
   "language": "python",
   "name": "python3"
  },
  "language_info": {
   "codemirror_mode": {
    "name": "ipython",
    "version": 2
   },
   "file_extension": ".py",
   "mimetype": "text/x-python",
   "name": "python",
   "nbconvert_exporter": "python",
   "pygments_lexer": "ipython2",
   "version": "2.7.6"
  }
 },
 "nbformat": 4,
 "nbformat_minor": 0
}