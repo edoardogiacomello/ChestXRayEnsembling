{
 "cells": [
  {
   "cell_type": "markdown",
   "metadata": {
    "colab_type": "text",
    "id": "ePz4BZXbEQzz"
   },
   "source": [
    "Load the libraries"
   ]
  },
  {
   "cell_type": "code",
   "execution_count": 1,
   "metadata": {},
   "outputs": [
    {
     "name": "stdout",
     "output_type": "stream",
     "text": [
      "^C\n",
      "\u001b[31mERROR: Operation cancelled by user\u001b[0m\n"
     ]
    }
   ],
   "source": [
    "!pip install tensorflow-addons"
   ]
  },
  {
   "cell_type": "code",
   "execution_count": 1,
   "metadata": {
    "colab": {},
    "colab_type": "code",
    "id": "p7tj2etrDULh"
   },
   "outputs": [],
   "source": [
    "import tensorflow as tf\n",
    "physical_devices = tf.config.experimental.list_physical_devices('GPU')\n",
    "if len(physical_devices) > 0:\n",
    "    tf.config.experimental.set_memory_growth(physical_devices[0], True)\n",
    "else:\n",
    "    print(\"No GPU found, model running on CPU\")\n",
    "import tensorflow_addons as tfa\n",
    "from skimage.transform import warp, AffineTransform\n",
    "import matplotlib.pyplot as plt\n",
    "import numpy as np\n",
    "import os\n",
    "import glob\n",
    "import pandas as pd\n",
    "import math\n",
    "import seaborn as sns\n",
    "tf.random.set_seed(42)\n",
    "from sklearn.metrics import roc_curve, auc\n",
    "import matplotlib.pyplot as plt"
   ]
  },
  {
   "cell_type": "markdown",
   "metadata": {
    "colab_type": "text",
    "id": "VPF3mO4NEbJN"
   },
   "source": [
    "# Data Loading and preprocessing"
   ]
  },
  {
   "cell_type": "markdown",
   "metadata": {
    "colab_type": "text",
    "id": "3mibnDKHb5yO"
   },
   "source": [
    "Link dataset in tfrecords: https://drive.google.com/open?id=1sz5MURqR_S_-f4niCx3dYeMXAljowWRt"
   ]
  },
  {
   "cell_type": "code",
   "execution_count": 2,
   "metadata": {
    "colab": {},
    "colab_type": "code",
    "id": "GcqoW0a4ljtZ"
   },
   "outputs": [
    {
     "name": "stdout",
     "output_type": "stream",
     "text": [
      "Loading dataset datasets/tta_dataset/tta.csv\n"
     ]
    }
   ],
   "source": [
    "@tf.function\n",
    "def apply_random_scaling(image, minval=-.02, maxval=.02):\n",
    "    param = tf.random.uniform([], minval=minval, maxval=maxval)\n",
    "    source_size = image.shape\n",
    "    target_size = tf.cast(source_size[0]*(1.0+param), tf.int32), tf.cast(source_size[1]*(1.0+param), tf.int32)\n",
    "    output = tf.image.resize_with_crop_or_pad(tf.image.resize(image, target_size), source_size[0], source_size[1])\n",
    "    return output, param\n",
    "\n",
    "def apply_random_shearing(image, minval=-5., maxval=5.):\n",
    "    #param = tf.random.uniform([], minval=tf.math.atan(minval/image.shape[1]), maxval=tf.math.atan(maxval/image.shape[1]))\n",
    "    #param = tf.random.uniform([], minval=tf.math.atan(), maxval=tf.math.atan(maxval/image.shape[1]))\n",
    "    param = np.random.uniform(low=minval, high=maxval)\n",
    "    output = warp(np.array(image), AffineTransform(shear=np.arctan(param/image.shape[1])).inverse)\n",
    "    return output, param\n",
    "@tf.function\n",
    "def apply_random_rotation(image, minval=-7, maxval=7):\n",
    "    param = tf.random.uniform([], minval=minval, maxval=maxval)\n",
    "    output = tfa.image.rotate(image, param*math.pi/180.0, interpolation='BILINEAR')\n",
    "    return output, param\n",
    "\n",
    "\n",
    "def apply_test_time_augmentation(image, labels, image_id):\n",
    "    '''Implements TTA, https://arxiv.org/pdf/1911.06475.pdf pag13:\n",
    "    \n",
    "    (...) for each test CXR, we applied a random \n",
    "    transformation (amongst horizontal flipping, \n",
    "    rotating ±7 degrees, scaling±2%,and shearing±5 pixels) 10 times (...)\n",
    "    \n",
    "    :param image - the input image\n",
    "    :param labels - the labels associated with the image\n",
    "    :param image_id - an ordinal or id associated with the image\n",
    "    \n",
    "    :returns - a DataFrame containing one row for each generated image (+1 for the original one), a list of generated images and labels. \n",
    "    The dataframe contains the augmentation method used, the parameter and the image/label filenames.\n",
    "    '''\n",
    "    dataframe = pd.DataFrame()\n",
    "    image_list = list()\n",
    "    image_list.append((image, labels))\n",
    "    \n",
    "    dataframe = dataframe.append({'image_id':image_id,\n",
    "                                      'tta_id':0,\n",
    "                                      'image_fn':'{}_{}_image.npy'.format(image_id, 0),\n",
    "                                      'labels_fn':'{}_label.npy'.format(image_id),\n",
    "                                      'method':'ORIGINAL',\n",
    "                                      'param':0.0}, ignore_index=True)\n",
    "    \n",
    "    for i in range(1, 11):\n",
    "\n",
    "        random_function = tf.random.uniform([], minval=0, maxval=4, dtype=tf.int32)\n",
    "\n",
    "        output = image\n",
    "        param = tf.constant(0.0)        \n",
    "        \n",
    "        if tf.equal(random_function, 0):\n",
    "            output = tf.image.flip_left_right(image)\n",
    "            param = tf.constant(0.0)\n",
    "            method = 'FLIP'\n",
    "        if tf.equal(random_function, 1):\n",
    "            output, param = apply_random_rotation(image)\n",
    "            method = 'ROTATION'\n",
    "        if tf.equal(random_function, 2):\n",
    "            output, param = apply_random_scaling(image)\n",
    "            method = 'SCALING'\n",
    "        if tf.equal(random_function, 3):\n",
    "            output, param = apply_random_shearing(image)\n",
    "            method = 'SHEAR'\n",
    "        image_list.append((output, labels))\n",
    "        \n",
    "        dataframe = dataframe.append({'image_id':image_id,\n",
    "                                      'tta_id':int(i),\n",
    "                                      'image_fn':'{}_{}_image.npy'.format(image_id, i),\n",
    "                                      'labels_fn':'{}_label.npy'.format(image_id),\n",
    "                                      'method':method,\n",
    "                                      'param':float(param)}, ignore_index=True)\n",
    "    return dataframe, image_list\n",
    "\n",
    "\n",
    "def record_parser(example, image_size=224):\n",
    "    example_fmt = {\n",
    "        'label': tf.io.FixedLenFeature([14], tf.float32),\n",
    "        'image': tf.io.FixedLenFeature([],tf.string, default_value='')}\n",
    "    parsed = tf.io.parse_single_example(example, example_fmt)\n",
    "    image = tf.io.decode_png(parsed[\"image\"],channels=3)\n",
    "    image.set_shape([image_size, image_size, 3])\n",
    "    image = tf.image.convert_image_dtype(image, tf.float32)\n",
    "    return image, parsed['label']\n",
    "\n",
    "def normalize_image(img,labels):\n",
    "    imagenet_mean = np.array([0.485, 0.456, 0.406])\n",
    "    imagenet_std = np.array([0.229, 0.224, 0.225])\n",
    "    img = (img - imagenet_mean) / imagenet_std\n",
    "    return img,labels\n",
    "\n",
    "def make_dataset(filename, image_size=224):\n",
    "  base_path = 'datasets/'\n",
    "  full_path = os.path.join(base_path,filename)\n",
    "  dataset = tf.data.TFRecordDataset(full_path)\n",
    "  parser = lambda x, size=image_size: record_parser(x, image_size=size)\n",
    "  parsed_dataset = dataset.map(parser,num_parallel_calls = tf.data.experimental.AUTOTUNE)\n",
    "  parsed_dataset = parsed_dataset.map(normalize_image,num_parallel_calls = tf.data.experimental.AUTOTUNE)\n",
    "  return parsed_dataset\n",
    "\n",
    "def make_tta_dataset(csv_path, test_dataset_path='test_set_cropped.tfrecords', image_size=224):\n",
    "    '''\n",
    "    TTA Dataset is built upon the test set. If the csv file exists in the given path, then this function use it to load the dataset.\n",
    "    Otherwise first the test dataset is loaded and each image is saved in a different numpy file. \n",
    "    '''\n",
    "    tta_images = list()\n",
    "    tta_labels = list()\n",
    "    folder = os.path.dirname(csv_path)\n",
    "    \n",
    "    if not os.path.isfile(csv_path):\n",
    "        print(\"Dataset not found. Generating...\")\n",
    "        # Generate dataset\n",
    "        # Load test dataset\n",
    "        \n",
    "        os.makedirs(folder, exist_ok=True)\n",
    "        test_dataset = make_dataset(test_dataset_path).prefetch(1)\n",
    "        # Apply augmentation\n",
    "        tta_dataset = list()\n",
    "        tta_csv = pd.DataFrame()\n",
    "        for r, record in enumerate(test_dataset):\n",
    "            aug_dataframe, aug_images = apply_test_time_augmentation(record[0], record[1], r)\n",
    "            tta_csv = tta_csv.append(aug_dataframe, ignore_index=True)\n",
    "            for (_, (image_fn, labels_fn)), (aug_image, aug_label) in zip(aug_dataframe[['image_fn', 'labels_fn']].iterrows(), aug_images):\n",
    "                np.save(os.path.join(folder, image_fn), aug_image)\n",
    "                if _ == 0:\n",
    "                    np.save(os.path.join(folder, labels_fn), aug_label)\n",
    "        tta_csv.to_csv(csv_path)\n",
    "    \n",
    "    print(\"Loading dataset \"+ csv_path)\n",
    "    # Load dataset\n",
    "    csv = pd.read_csv(csv_path, index_col=0)\n",
    "    for g, augmentation_group in csv.loc[csv['method'] != 'ORIGINAL'].groupby(['image_id']):\n",
    "        current_aug = list()\n",
    "        for _, (image_fn, labels_fn) in augmentation_group[['image_fn', 'labels_fn']].iterrows():\n",
    "            current_aug.append(np.load(os.path.join(folder, image_fn)))\n",
    "            label = np.load(os.path.join(folder, labels_fn))\n",
    "        tta_images.append(np.stack(current_aug))\n",
    "        tta_labels.append(label)\n",
    "    return tf.data.Dataset.from_tensor_slices((tta_images, tta_labels))\n",
    "        \n",
    "\n",
    "batch_size = 64\n",
    "#train_dataset = make_dataset('training_cropped.tfrecords').shuffle(buffer_size=128).batch(batch_size, drop_remainder=True).prefetch(1)\n",
    "#val_dataset = make_dataset('validation_cropped.tfrecords').shuffle(buffer_size=128).batch(batch_size, drop_remainder=True).prefetch(1)\n",
    "#train_dataset = make_dataset('training_cropped.tfrecords').batch(batch_size, drop_remainder=True).prefetch(1)\n",
    "\n",
    "# UNCOMMENT TO ENABLE TRAINING\n",
    "# train_dataset = make_dataset('conditional_training.tfrecords').shuffle(buffer_size=128).batch(batch_size, drop_remainder=True).prefetch(1)\n",
    "val_dataset = make_dataset('validation_cropped.tfrecords').batch(batch_size, drop_remainder=True).prefetch(1)\n",
    "test_dataset = make_dataset('test_set_cropped.tfrecords').batch(batch_size, drop_remainder=False).prefetch(1)\n",
    "\n",
    "tta_dataset = make_tta_dataset('datasets/tta_dataset/tta.csv')\n",
    "\n",
    "# TODO: Since we cannot convert the full pipeline to tensorflow (due to shearing depending on Skimage), the make tta dataset will:\n",
    "# 1) Compute the dataset if not already present at the given path (using the classical for structure)\n",
    "# 2) Load the dataset from npy files as a tensorflow dataset"
   ]
  },
  {
   "cell_type": "code",
   "execution_count": 24,
   "metadata": {},
   "outputs": [
    {
     "data": {
      "text/plain": [
       "1856"
      ]
     },
     "execution_count": 24,
     "metadata": {},
     "output_type": "execute_result"
    }
   ],
   "source": [
    "val_dataset = make_dataset('validation_cropped.tfrecords').batch(batch_size, drop_remainder=True).prefetch(1).unbatch()\n",
    "v = 0\n",
    "for x in val_dataset:\n",
    "    v+=1\n",
    "v"
   ]
  },
  {
   "cell_type": "code",
   "execution_count": 25,
   "metadata": {},
   "outputs": [
    {
     "data": {
      "text/plain": [
       "(<tf.Tensor: shape=(224, 224, 3), dtype=float32, numpy=\n",
       " array([[[-1.980906  , -1.8956583 , -1.6650109 ],\n",
       "         [-1.980906  , -1.8956583 , -1.6650109 ],\n",
       "         [-1.980906  , -1.8956583 , -1.6650109 ],\n",
       "         ...,\n",
       "         [-1.8781574 , -1.7906162 , -1.5604358 ],\n",
       "         [-2.0322802 , -1.9481792 , -1.7172985 ],\n",
       "         [-1.980906  , -1.8956583 , -1.6650109 ]],\n",
       " \n",
       "        [[-1.980906  , -1.8956583 , -1.6650109 ],\n",
       "         [-1.980906  , -1.8956583 , -1.6650109 ],\n",
       "         [-1.9980307 , -1.9131652 , -1.68244   ],\n",
       "         ...,\n",
       "         [-1.7754089 , -1.6855742 , -1.4558606 ],\n",
       "         [-1.7925336 , -1.7030813 , -1.4732897 ],\n",
       "         [-1.843908  , -1.7556022 , -1.5255773 ]],\n",
       " \n",
       "        [[-1.980906  , -1.8956583 , -1.6650109 ],\n",
       "         [-1.980906  , -1.8956583 , -1.6650109 ],\n",
       "         [-1.9980307 , -1.9131652 , -1.68244   ],\n",
       "         ...,\n",
       "         [-1.7240347 , -1.6330532 , -1.403573  ],\n",
       "         [-1.8096584 , -1.7205882 , -1.490719  ],\n",
       "         [-1.7411594 , -1.6505601 , -1.4210021 ]],\n",
       " \n",
       "        ...,\n",
       " \n",
       "        [[-1.6555357 , -1.5630251 , -1.3338561 ],\n",
       "         [-1.6555357 , -1.5630251 , -1.3338561 ],\n",
       "         [-1.7411594 , -1.6505601 , -1.4210021 ],\n",
       "         ...,\n",
       "         [ 0.45080918,  0.5903362 ,  0.8099348 ],\n",
       "         [-0.1314324 , -0.00490182,  0.21734224],\n",
       "         [ 0.03981512,  0.17016819,  0.3916342 ]],\n",
       " \n",
       "        [[-1.6555357 , -1.5630251 , -1.3338561 ],\n",
       "         [-1.6726604 , -1.5805321 , -1.3512853 ],\n",
       "         [-1.7411594 , -1.6505601 , -1.4210021 ],\n",
       "         ...,\n",
       "         [ 0.6563062 ,  0.8004202 ,  1.0190852 ],\n",
       "         [ 0.07406463,  0.2051822 ,  0.42649257],\n",
       "         [-0.04580864,  0.08263319,  0.3044882 ]],\n",
       " \n",
       "        [[-1.6041614 , -1.510504  , -1.2815685 ],\n",
       "         [-1.6897851 , -1.598039  , -1.3687145 ],\n",
       "         [-1.7925336 , -1.7030813 , -1.4732897 ],\n",
       "         ...,\n",
       "         [ 0.70768046,  0.8529412 ,  1.0713727 ],\n",
       "         [ 0.07406463,  0.2051822 ,  0.42649257],\n",
       "         [-0.11430765,  0.01260518,  0.23477145]]], dtype=float32)>,\n",
       " <tf.Tensor: shape=(14,), dtype=float32, numpy=\n",
       " array([0.       , 0.       , 0.       , 1.       , 0.       , 0.       ,\n",
       "        0.       , 0.       , 0.       , 0.       , 0.7711851, 0.       ,\n",
       "        0.       , 1.       ], dtype=float32)>)"
      ]
     },
     "execution_count": 25,
     "metadata": {},
     "output_type": "execute_result"
    }
   ],
   "source": [
    "x"
   ]
  },
  {
   "cell_type": "markdown",
   "metadata": {
    "colab_type": "text",
    "id": "MlGnME9vEoCT"
   },
   "source": [
    "# Model Training"
   ]
  },
  {
   "cell_type": "code",
   "execution_count": null,
   "metadata": {
    "colab": {},
    "colab_type": "code",
    "id": "x-J2iIgYIK7y"
   },
   "outputs": [],
   "source": [
    "from tensorflow.keras.applications.densenet import DenseNet201,DenseNet121,DenseNet169\n",
    "from tensorflow.keras.applications.inception_resnet_v2 import InceptionResNetV2\n",
    "from tensorflow.keras.applications.xception import Xception\n",
    "from tensorflow.keras.applications.nasnet import NASNetMobile\n",
    "from tensorflow.keras.applications.vgg19 import VGG19\n",
    "from tensorflow.keras.applications.vgg16 import VGG16\n",
    "from tensorflow.keras.layers import GlobalAveragePooling2D, Dense, Activation, Lambda\n",
    "from tensorflow.keras.models import Model\n",
    "\n",
    "base_model = DenseNet121(include_top=False,\n",
    "                             weights='imagenet',\n",
    "                             input_shape=(224, 224, 3))\n",
    "\n",
    "\n",
    "\n",
    "x = base_model.output\n",
    "x = GlobalAveragePooling2D()(x)\n",
    "predictions = Dense(14, activation='sigmoid')(x)\n",
    "model = Model(inputs=base_model.input, outputs=predictions)\n"
   ]
  },
  {
   "cell_type": "code",
   "execution_count": null,
   "metadata": {
    "colab": {},
    "colab_type": "code",
    "id": "KHaxLrakQtmn"
   },
   "outputs": [],
   "source": [
    "from tensorflow.keras.callbacks import ReduceLROnPlateau, EarlyStopping, ModelCheckpoint, LearningRateScheduler\n",
    "from tensorflow.keras.optimizers import Adam\n",
    "\n",
    "def step_decay(epoch):\n",
    "  initial_lr = 1e-4\n",
    "  drop = 0.1\n",
    "  return initial_lr * np.power(drop,epoch)\n",
    "\n",
    "outputFolder = '/content/drive/My Drive/Models320/VGG19'\n",
    "if not os.path.exists(outputFolder):\n",
    "    os.makedirs(outputFolder)\n",
    "filepath=outputFolder+\"/model-{epoch:02d}.hdf5\"\n",
    "\n",
    "lr_scheduler = LearningRateScheduler(step_decay)\n",
    "early_stopping = EarlyStopping(monitor='val_AUC',mode='max',patience=4)\n",
    "checkpoint_cb = ModelCheckpoint(filepath,save_best_only = False,save_weights_only = False,\n",
    "                               save_freq='epoch',verbose=False)\n",
    "\n",
    "\n",
    "opt = Adam(learning_rate=0.0001, beta_1=0.9, beta_2=0.999)\n",
    "callbacks = [lr_scheduler,checkpoint_cb,early_stopping]\n",
    "\n",
    "model.compile(loss='binary_crossentropy', optimizer=opt, metrics=['accuracy','AUC'])"
   ]
  },
  {
   "cell_type": "code",
   "execution_count": null,
   "metadata": {
    "colab": {},
    "colab_type": "code",
    "id": "zF1fEjpEQ9n0"
   },
   "outputs": [],
   "source": [
    "%%time\n",
    "history = model.fit(train_dataset,\n",
    "          epochs=5,\n",
    "          validation_data=val_dataset,\n",
    "          callbacks=callbacks,\n",
    "          verbose=1,initial_epoch = 0)"
   ]
  },
  {
   "cell_type": "markdown",
   "metadata": {
    "colab_type": "text",
    "id": "WS316vj2FWx2"
   },
   "source": [
    "# Load Models"
   ]
  },
  {
   "cell_type": "markdown",
   "metadata": {
    "colab_type": "text",
    "id": "CBQj1YD7-q4q"
   },
   "source": [
    "Link alla cartella contenente i modelli trainati: https://drive.google.com/open?id=1EkuS27OzYyQ4fqfiNQdcrO6nQkyKBJ9B"
   ]
  },
  {
   "cell_type": "code",
   "execution_count": 3,
   "metadata": {},
   "outputs": [],
   "source": [
    "ENABLE_CONDITIONAL_TRAINING = True"
   ]
  },
  {
   "cell_type": "code",
   "execution_count": 4,
   "metadata": {
    "colab": {
     "base_uri": "https://localhost:8080/",
     "height": 241
    },
    "colab_type": "code",
    "id": "G0pK8vk6MPZR",
    "outputId": "f91ae9ef-8304-423a-ca7f-89f5318aed53"
   },
   "outputs": [
    {
     "name": "stderr",
     "output_type": "stream",
     "text": [
      "/usr/local/lib/python3.6/dist-packages/tensorflow/python/keras/layers/core.py:1045: UserWarning: keras_applications.inception_resnet_v2 is not loaded, but a Lambda layer uses it. It may cause errors.\n",
      "  , UserWarning)\n"
     ]
    }
   ],
   "source": [
    "from tensorflow.keras.models import load_model\n",
    "\n",
    "def load_models(base_path):\n",
    "      models = []\n",
    "      model_names = sorted(os.listdir(base_path))\n",
    "      for model in model_names:\n",
    "        print('loading model: {}'.format(model))\n",
    "        models.append(load_model(os.path.join(base_path,model)))\n",
    "      return models, model_names\n",
    "\n",
    "if ENABLE_CONDITIONAL_TRAINING:\n",
    "    model_names = ['DenseNet121','DenseNet169','DenseNet201','VGG16','VGG19','Xception','InceptionResNetV2']\n",
    "\n",
    "    models = []\n",
    "    for el in model_names:\n",
    "      mod = load_model('ConditionalTraining/{}/FineTuning/model-05.hdf5'.format(el))\n",
    "      models.append(mod)\n",
    "else:\n",
    "    base_path = './Models/'\n",
    "    models, model_names = load_models(base_path)"
   ]
  },
  {
   "cell_type": "markdown",
   "metadata": {
    "colab_type": "text",
    "id": "sueUXsqrF0H2"
   },
   "source": [
    "# Model Predictions"
   ]
  },
  {
   "cell_type": "code",
   "execution_count": 5,
   "metadata": {},
   "outputs": [],
   "source": [
    "def apply_bayes_to_predictions(predictions):\n",
    "  predictions[:,5] = predictions[:,3] * predictions[:,5]\n",
    "  predictions[:,6] = predictions[:,3] * predictions[:,6]\n",
    "  predictions[:,7] = predictions[:,3] * predictions[:,7]\n",
    "  predictions[:,4] = predictions[:,3] * predictions[:,4]\n",
    "  predictions[:,8] = predictions[:,3] * predictions[:,8]\n",
    "  predictions[:,2] = predictions[:,1] * predictions[:,2]\n",
    "  return predictions\n",
    "\n",
    "def predict(model, input_, conditional_training):\n",
    "    predictions = model.predict(input_)\n",
    "    if conditional_training:\n",
    "        return apply_bayes_to_predictions(predictions)\n",
    "    else:\n",
    "        return predictions"
   ]
  },
  {
   "cell_type": "markdown",
   "metadata": {},
   "source": [
    "Test Time Augmentation (TTA) produces each prediction by averaging the result of 10 augmented samples"
   ]
  },
  {
   "cell_type": "code",
   "execution_count": 6,
   "metadata": {},
   "outputs": [],
   "source": [
    "tta_predictions = list()\n",
    "test_Y = list()\n",
    "for augmented_block, label in tta_dataset:\n",
    "    test_Y.append(label.numpy())\n",
    "    models_predictions = list()\n",
    "    for model in models:\n",
    "        models_predictions.append(np.stack([predict(model, img[tf.newaxis, ...], ENABLE_CONDITIONAL_TRAINING) for img in tf.unstack(augmented_block)]))\n",
    "    tta_predictions.append(np.stack(models_predictions))\n",
    "test_Y = np.array(test_Y)    \n",
    "tta_predictions = np.stack(tta_predictions).squeeze().transpose(1, 0, 2, 3) # Prediction for each augmented image and model\n",
    "tta_prediction_means = tta_predictions.mean(axis=2)"
   ]
  },
  {
   "cell_type": "code",
   "execution_count": 7,
   "metadata": {},
   "outputs": [],
   "source": [
    "test_predictions = list()\n",
    "for i, (image, label) in enumerate(test_dataset.unbatch()):\n",
    "    models_predictions = list()\n",
    "    for model in models:\n",
    "        models_predictions.append(predict(model, image[tf.newaxis, ...], ENABLE_CONDITIONAL_TRAINING))\n",
    "    test_predictions.append(np.stack(models_predictions))\n",
    "test_predictions = np.stack(test_predictions)\n",
    "test_predictions = test_predictions.squeeze().transpose(1, 0, 2)"
   ]
  },
  {
   "cell_type": "markdown",
   "metadata": {},
   "source": [
    "## TTA Robustness"
   ]
  },
  {
   "cell_type": "code",
   "execution_count": 9,
   "metadata": {
    "collapsed": true,
    "jupyter": {
     "outputs_hidden": true,
     "source_hidden": true
    }
   },
   "outputs": [
    {
     "data": {
      "text/plain": [
       "<matplotlib.axes._subplots.AxesSubplot at 0x7efbf446ea58>"
      ]
     },
     "execution_count": 9,
     "metadata": {},
     "output_type": "execute_result"
    },
    {
     "data": {
      "image/png": "[encoded data removed]",
      "text/plain": [
       "<Figure size 432x288 with 2 Axes>"
      ]
     },
     "metadata": {
      "needs_background": "light"
     },
     "output_type": "display_data"
    }
   ],
   "source": [
    "dummy_labels = ['No Finding', 'Enlarged Cardiomediastinum', 'Cardiomegaly', 'Lung Opacity', 'Lung Lesion', 'Edema', 'Consolidation', 'Pneumonia', 'Atelectasis',\n",
    "                'Pneumothorax', 'Pleural Effusion', 'Pleural Other', 'Fracture', 'Support Devices']\n",
    "\n",
    "\n",
    "\n",
    "# Checking what predictions/models are more robust to TTA\n",
    "\n",
    "robustness = pd.DataFrame(np.mean(np.var(tta_predictions, axis=(2)), axis=1), columns=dummy_labels, index=model_names)\n",
    "sns.heatmap(robustness, robust=True)"
   ]
  },
  {
   "cell_type": "code",
   "execution_count": 8,
   "metadata": {
    "colab": {
     "base_uri": "https://localhost:8080/",
     "height": 1000
    },
    "colab_type": "code",
    "id": "DKb0Fxu9Fllr",
    "outputId": "dfaacd2c-3b40-481f-fac8-89a1ce736226"
   },
   "outputs": [
    {
     "name": "stderr",
     "output_type": "stream",
     "text": [
      "/usr/local/lib/python3.6/dist-packages/sklearn/metrics/_ranking.py:813: UndefinedMetricWarning: No positive samples in y_true, true positive value should be meaningless\n",
      "  UndefinedMetricWarning)\n",
      "/usr/local/lib/python3.6/dist-packages/sklearn/metrics/_ranking.py:813: UndefinedMetricWarning: No positive samples in y_true, true positive value should be meaningless\n",
      "  UndefinedMetricWarning)\n",
      "/usr/local/lib/python3.6/dist-packages/sklearn/metrics/_ranking.py:813: UndefinedMetricWarning: No positive samples in y_true, true positive value should be meaningless\n",
      "  UndefinedMetricWarning)\n",
      "/usr/local/lib/python3.6/dist-packages/sklearn/metrics/_ranking.py:813: UndefinedMetricWarning: No positive samples in y_true, true positive value should be meaningless\n",
      "  UndefinedMetricWarning)\n",
      "/usr/local/lib/python3.6/dist-packages/sklearn/metrics/_ranking.py:813: UndefinedMetricWarning: No positive samples in y_true, true positive value should be meaningless\n",
      "  UndefinedMetricWarning)\n",
      "/usr/local/lib/python3.6/dist-packages/sklearn/metrics/_ranking.py:813: UndefinedMetricWarning: No positive samples in y_true, true positive value should be meaningless\n",
      "  UndefinedMetricWarning)\n",
      "/usr/local/lib/python3.6/dist-packages/sklearn/metrics/_ranking.py:813: UndefinedMetricWarning: No positive samples in y_true, true positive value should be meaningless\n",
      "  UndefinedMetricWarning)\n"
     ]
    },
    {
     "data": {
      "image/png": "[encoded data removed]",
      "text/plain": [
       "<Figure size 1800x1008 with 7 Axes>"
      ]
     },
     "metadata": {
      "needs_background": "light"
     },
     "output_type": "display_data"
    }
   ],
   "source": [
    "def plot_single_model_performance(predictions):\n",
    "    from sklearn.metrics import roc_curve, auc\n",
    "    import matplotlib.pyplot as plt\n",
    "\n",
    "    dummy_labels = ['No Finding', 'Enlarged Cardiomediastinum', 'Cardiomegaly', 'Lung Opacity', 'Lung Lesion', 'Edema', 'Consolidation', 'Pneumonia', 'Atelectasis',\n",
    "                    'Pneumothorax', 'Pleural Effusion', 'Pleural Other', 'Fracture', 'Support Devices']\n",
    "\n",
    "    target_labels = ['Cardiomegaly','Edema','Consolidation','Atelectasis','Pleural Effusion']\n",
    "\n",
    "    titles = model_names\n",
    "    #fig, c_ax = plt.subplots(2,3, figsize = (15, 10))\n",
    "    fig = plt.figure(figsize=(25,14))\n",
    "    \n",
    "    results = pd.DataFrame()\n",
    "\n",
    "    j = 1\n",
    "    for model_prediction in predictions:\n",
    "      aurocs= []\n",
    "      ax = fig.add_subplot(2,4,j)\n",
    "      for (i, label) in enumerate(dummy_labels):\n",
    "          fpr, tpr, thresholds = roc_curve(test_Y[:,i].astype(int), model_prediction[:,i])\n",
    "          if (label in target_labels):\n",
    "            #ax = fig.add_subplot(2,3,j)\n",
    "            score = auc(fpr, tpr)\n",
    "            ax.plot(fpr, tpr, label = '%s (AUC:%0.2f)'  % (label, score))\n",
    "            aurocs.append(auc(fpr, tpr))\n",
    "            results = results.append({'Model':titles[j-1], 'Label': label, 'Score':score},ignore_index = True)\n",
    "      ax.legend()\n",
    "      ax.set_xlabel('False Positive Rate')\n",
    "      ax.set_ylabel('True Positive Rate')\n",
    "      ax.set_title('{}:{:0.4f}'.format(titles[j-1],np.mean(aurocs)))\n",
    "      j+=1 \n",
    "    return results\n",
    "\n",
    "test_res = plot_single_model_performance(test_predictions).pivot(index='Model', columns='Label')#.to_csv('results/single_model.csv')\n",
    "#tta_res = plot_single_model_performance(tta_prediction_means).pivot(index='Model', columns='Label').to_csv('results/single_model_tta.csv')\n",
    "#test_res_nobayes = plot_single_model_performance(test_predictions).pivot(index='Model', columns='Label').to_csv('results/single_model_nobayes.csv')\n",
    "#tta_res_nobayes = plot_single_model_performance(tta_prediction_means).pivot(index='Model', columns='Label').to_csv('results/single_model_tta_nobayes.csv')"
   ]
  },
  {
   "cell_type": "code",
   "execution_count": 15,
   "metadata": {},
   "outputs": [],
   "source": []
  },
  {
   "cell_type": "code",
   "execution_count": 14,
   "metadata": {},
   "outputs": [
    {
     "data": {
      "text/plain": [
       "(7, 202, 14)"
      ]
     },
     "execution_count": 14,
     "metadata": {},
     "output_type": "execute_result"
    }
   ],
   "source": []
  },
  {
   "cell_type": "markdown",
   "metadata": {},
   "source": [
    "## Simple Mean"
   ]
  },
  {
   "cell_type": "code",
   "execution_count": 17,
   "metadata": {
    "colab": {
     "base_uri": "https://localhost:8080/",
     "height": 614
    },
    "colab_type": "code",
    "id": "eVCWioliAsDN",
    "outputId": "7ce0a01f-ec99-4618-ecab-1030e2971546"
   },
   "outputs": [
    {
     "name": "stderr",
     "output_type": "stream",
     "text": [
      "No handles with labels found to put in legend.\n",
      "/usr/local/lib/python3.6/dist-packages/numpy/core/fromnumeric.py:3335: RuntimeWarning: Mean of empty slice.\n",
      "  out=out, **kwargs)\n",
      "/usr/local/lib/python3.6/dist-packages/numpy/core/_methods.py:161: RuntimeWarning: invalid value encountered in double_scalars\n",
      "  ret = ret.dtype.type(ret / rcount)\n",
      "No handles with labels found to put in legend.\n",
      "/usr/local/lib/python3.6/dist-packages/sklearn/metrics/_ranking.py:813: UndefinedMetricWarning: No positive samples in y_true, true positive value should be meaningless\n",
      "  UndefinedMetricWarning)\n"
     ]
    },
    {
     "data": {
      "text/html": [
       "<div>\n",
       "<style scoped>\n",
       "    .dataframe tbody tr th:only-of-type {\n",
       "        vertical-align: middle;\n",
       "    }\n",
       "\n",
       "    .dataframe tbody tr th {\n",
       "        vertical-align: top;\n",
       "    }\n",
       "\n",
       "    .dataframe thead th {\n",
       "        text-align: right;\n",
       "    }\n",
       "</style>\n",
       "<table border=\"1\" class=\"dataframe\">\n",
       "  <thead>\n",
       "    <tr style=\"text-align: right;\">\n",
       "      <th></th>\n",
       "      <th>Label</th>\n",
       "      <th>Score</th>\n",
       "    </tr>\n",
       "  </thead>\n",
       "  <tbody>\n",
       "    <tr>\n",
       "      <th>0</th>\n",
       "      <td>Cardiomegaly</td>\n",
       "      <td>0.810940</td>\n",
       "    </tr>\n",
       "    <tr>\n",
       "      <th>1</th>\n",
       "      <td>Edema</td>\n",
       "      <td>0.936161</td>\n",
       "    </tr>\n",
       "    <tr>\n",
       "      <th>2</th>\n",
       "      <td>Consolidation</td>\n",
       "      <td>0.908456</td>\n",
       "    </tr>\n",
       "    <tr>\n",
       "      <th>3</th>\n",
       "      <td>Atelectasis</td>\n",
       "      <td>0.853543</td>\n",
       "    </tr>\n",
       "    <tr>\n",
       "      <th>4</th>\n",
       "      <td>Pleural Effusion</td>\n",
       "      <td>0.933424</td>\n",
       "    </tr>\n",
       "  </tbody>\n",
       "</table>\n",
       "</div>"
      ],
      "text/plain": [
       "              Label     Score\n",
       "0      Cardiomegaly  0.810940\n",
       "1             Edema  0.936161\n",
       "2     Consolidation  0.908456\n",
       "3       Atelectasis  0.853543\n",
       "4  Pleural Effusion  0.933424"
      ]
     },
     "execution_count": 17,
     "metadata": {},
     "output_type": "execute_result"
    },
    {
     "data": {
      "image/png": "[encoded data removed]",
      "text/plain": [
       "<Figure size 504x504 with 1 Axes>"
      ]
     },
     "metadata": {
      "needs_background": "light"
     },
     "output_type": "display_data"
    }
   ],
   "source": [
    "target_labels = ['Cardiomegaly','Edema','Consolidation','Atelectasis','Pleural Effusion']\n",
    "dummy_labels = ['No Finding', 'Enlarged Cardiomediastinum', 'Cardiomegaly', 'Lung Opacity', 'Lung Lesion', 'Edema', 'Consolidation', 'Pneumonia', 'Atelectasis',\n",
    "                    'Pneumothorax', 'Pleural Effusion', 'Pleural Other', 'Fracture', 'Support Devices']\n",
    "\n",
    "def simple_mean(model_predictions):\n",
    "    fig, ax = plt.subplots(1,1, figsize = (7, 7))\n",
    "    j = 1\n",
    "    aurocs = []\n",
    "    results = pd.DataFrame()\n",
    "    for (i, label) in enumerate(dummy_labels):\n",
    "      fpr, tpr, thresholds = roc_curve(test_Y[:,i].astype(int), model_predictions[:,i])\n",
    "      \n",
    "      if (label in target_labels):\n",
    "        #ax = fig.add_subplot(2,3,j)\n",
    "        score = auc(fpr, tpr)\n",
    "        ax.plot(fpr, tpr, label = '%s (AUC:%0.2f)'  % (label, score))\n",
    "        aurocs.append(auc(fpr, tpr))\n",
    "        results = results.append({'Label': label, 'Score':score},ignore_index = True)\n",
    "      ax.legend()\n",
    "      ax.set_xlabel('False Positive Rate')\n",
    "      ax.set_ylabel('True Positive Rate')\n",
    "      ax.set_title('AUROC: {:0.4f}'.format(np.mean(aurocs)))\n",
    "    return results\n",
    "\n",
    "simple_mean(test_predictions.mean(axis=0))#.to_csv('results/simple_mean.csv')\n",
    "#simple_mean(tta_prediction_means.mean(axis=0)).to_csv('results/simple_mean_tta.csv')"
   ]
  },
  {
   "cell_type": "markdown",
   "metadata": {
    "colab_type": "text",
    "id": "jQau6TNJBEPA"
   },
   "source": [
    "# Weighted Predictions"
   ]
  },
  {
   "cell_type": "code",
   "execution_count": 18,
   "metadata": {
    "colab": {},
    "colab_type": "code",
    "id": "aKjUb3g2BDaD"
   },
   "outputs": [],
   "source": [
    "from scipy.stats import entropy\n",
    "\n",
    "def make_weighted_predictions(predictions):\n",
    "  entropies = entropy([predictions,1-predictions],base = 2)\n",
    "  return np.average(predictions,axis=0,weights=1-entropies)\n",
    "\n",
    "weighted_predictions = make_weighted_predictions(test_predictions)\n",
    "#weighted_predictions_tta = make_weighted_predictions(tta_prediction_means)"
   ]
  },
  {
   "cell_type": "code",
   "execution_count": 19,
   "metadata": {
    "colab": {
     "base_uri": "https://localhost:8080/",
     "height": 688
    },
    "colab_type": "code",
    "id": "Vj3Ia7nbB4Mo",
    "outputId": "2fff06bf-26e0-4ac0-eda8-4cde59ff1994"
   },
   "outputs": [
    {
     "name": "stderr",
     "output_type": "stream",
     "text": [
      "No handles with labels found to put in legend.\n",
      "/usr/local/lib/python3.6/dist-packages/numpy/core/fromnumeric.py:3335: RuntimeWarning: Mean of empty slice.\n",
      "  out=out, **kwargs)\n",
      "/usr/local/lib/python3.6/dist-packages/numpy/core/_methods.py:161: RuntimeWarning: invalid value encountered in double_scalars\n",
      "  ret = ret.dtype.type(ret / rcount)\n",
      "No handles with labels found to put in legend.\n",
      "/usr/local/lib/python3.6/dist-packages/sklearn/metrics/_ranking.py:813: UndefinedMetricWarning: No positive samples in y_true, true positive value should be meaningless\n",
      "  UndefinedMetricWarning)\n"
     ]
    },
    {
     "data": {
      "text/html": [
       "<div>\n",
       "<style scoped>\n",
       "    .dataframe tbody tr th:only-of-type {\n",
       "        vertical-align: middle;\n",
       "    }\n",
       "\n",
       "    .dataframe tbody tr th {\n",
       "        vertical-align: top;\n",
       "    }\n",
       "\n",
       "    .dataframe thead th {\n",
       "        text-align: right;\n",
       "    }\n",
       "</style>\n",
       "<table border=\"1\" class=\"dataframe\">\n",
       "  <thead>\n",
       "    <tr style=\"text-align: right;\">\n",
       "      <th></th>\n",
       "      <th>Label</th>\n",
       "      <th>Score</th>\n",
       "    </tr>\n",
       "  </thead>\n",
       "  <tbody>\n",
       "    <tr>\n",
       "      <th>0</th>\n",
       "      <td>Cardiomegaly</td>\n",
       "      <td>0.811497</td>\n",
       "    </tr>\n",
       "    <tr>\n",
       "      <th>1</th>\n",
       "      <td>Edema</td>\n",
       "      <td>0.935714</td>\n",
       "    </tr>\n",
       "    <tr>\n",
       "      <th>2</th>\n",
       "      <td>Consolidation</td>\n",
       "      <td>0.911765</td>\n",
       "    </tr>\n",
       "    <tr>\n",
       "      <th>3</th>\n",
       "      <td>Atelectasis</td>\n",
       "      <td>0.856483</td>\n",
       "    </tr>\n",
       "    <tr>\n",
       "      <th>4</th>\n",
       "      <td>Pleural Effusion</td>\n",
       "      <td>0.930367</td>\n",
       "    </tr>\n",
       "  </tbody>\n",
       "</table>\n",
       "</div>"
      ],
      "text/plain": [
       "              Label     Score\n",
       "0      Cardiomegaly  0.811497\n",
       "1             Edema  0.935714\n",
       "2     Consolidation  0.911765\n",
       "3       Atelectasis  0.856483\n",
       "4  Pleural Effusion  0.930367"
      ]
     },
     "execution_count": 19,
     "metadata": {},
     "output_type": "execute_result"
    },
    {
     "data": {
      "image/png": "[encoded data removed]",
      "text/plain": [
       "<Figure size 504x504 with 1 Axes>"
      ]
     },
     "metadata": {
      "needs_background": "light"
     },
     "output_type": "display_data"
    }
   ],
   "source": [
    "def plot_weighted_predictions(weighted_predictions):\n",
    "    fig, ax = plt.subplots(1,1, figsize = (7, 7))\n",
    "    j = 1\n",
    "    results = pd.DataFrame()\n",
    "    aurocs = []\n",
    "    for (i, label) in enumerate(dummy_labels):\n",
    "      fpr, tpr, thresholds = roc_curve(test_Y[:,i].astype(int), weighted_predictions[:,i])\n",
    "      if (label in target_labels):\n",
    "        #ax = fig.add_subplot(2,3,j)\n",
    "        score = auc(fpr, tpr)\n",
    "        ax.plot(fpr, tpr, label = '%s (AUC:%0.2f)'  % (label, score))\n",
    "        aurocs.append(score)\n",
    "        results = results.append({'Label': label, 'Score':score},ignore_index = True)\n",
    "      ax.legend()\n",
    "      ax.set_xlabel('False Positive Rate')\n",
    "      ax.set_ylabel('True Positive Rate')\n",
    "      ax.set_title('AUROC: {:0.4f}'.format(np.mean(aurocs)))\n",
    "    return results\n",
    "plot_weighted_predictions(weighted_predictions)#.to_csv('results/weighted_mean.csv')\n",
    "#plot_weighted_predictions(weighted_predictions_tta).to_csv('results/weighted_mean_tta.csv')"
   ]
  },
  {
   "cell_type": "markdown",
   "metadata": {
    "colab_type": "text",
    "id": "-d7Uw8YaC9lo"
   },
   "source": [
    "# Majority Voting"
   ]
  },
  {
   "cell_type": "markdown",
   "metadata": {
    "colab_type": "text",
    "id": "7ONpJz6ERIyw"
   },
   "source": [
    "Majority voting with threshold 0.5"
   ]
  },
  {
   "cell_type": "code",
   "execution_count": null,
   "metadata": {
    "colab": {},
    "colab_type": "code",
    "id": "s9TjQCVaDQ65"
   },
   "outputs": [],
   "source": []
  },
  {
   "cell_type": "code",
   "execution_count": 13,
   "metadata": {
    "colab": {
     "base_uri": "https://localhost:8080/",
     "height": 754
    },
    "colab_type": "code",
    "id": "Lp1A9dcxDcmq",
    "outputId": "927fb45e-943d-47a0-f012-bde9790f8b7d"
   },
   "outputs": [
    {
     "name": "stderr",
     "output_type": "stream",
     "text": [
      "No handles with labels found to put in legend.\n",
      "/usr/local/lib/python3.6/dist-packages/numpy/core/fromnumeric.py:3335: RuntimeWarning: Mean of empty slice.\n",
      "  out=out, **kwargs)\n",
      "/usr/local/lib/python3.6/dist-packages/numpy/core/_methods.py:161: RuntimeWarning: invalid value encountered in double_scalars\n",
      "  ret = ret.dtype.type(ret / rcount)\n",
      "No handles with labels found to put in legend.\n",
      "/usr/local/lib/python3.6/dist-packages/sklearn/metrics/_ranking.py:813: UndefinedMetricWarning: No positive samples in y_true, true positive value should be meaningless\n",
      "  UndefinedMetricWarning)\n",
      "No handles with labels found to put in legend.\n",
      "/usr/local/lib/python3.6/dist-packages/numpy/core/fromnumeric.py:3335: RuntimeWarning: Mean of empty slice.\n",
      "  out=out, **kwargs)\n",
      "/usr/local/lib/python3.6/dist-packages/numpy/core/_methods.py:161: RuntimeWarning: invalid value encountered in double_scalars\n",
      "  ret = ret.dtype.type(ret / rcount)\n",
      "No handles with labels found to put in legend.\n",
      "/usr/local/lib/python3.6/dist-packages/sklearn/metrics/_ranking.py:813: UndefinedMetricWarning: No positive samples in y_true, true positive value should be meaningless\n",
      "  UndefinedMetricWarning)\n"
     ]
    },
    {
     "data": {
      "image/png": "[encoded data removed]",
      "text/plain": [
       "<Figure size 504x504 with 1 Axes>"
      ]
     },
     "metadata": {
      "needs_background": "light"
     },
     "output_type": "display_data"
    },
    {
     "data": {
      "image/png": "[encoded data removed]",
      "text/plain": [
       "<Figure size 504x504 with 1 Axes>"
      ]
     },
     "metadata": {
      "needs_background": "light"
     },
     "output_type": "display_data"
    }
   ],
   "source": [
    "def plot_majority_voting(predictions, threshold=0.5):\n",
    "    binary_pred = predictions >= threshold\n",
    "    binary_pred = binary_pred.astype(int)\n",
    "    votes = binary_pred.sum(axis=0)\n",
    "    final_pred = votes >=4\n",
    "    final_pred = final_pred.astype(int)\n",
    "\n",
    "    fig, ax = plt.subplots(1,1, figsize = (7, 7))\n",
    "    j = 1\n",
    "    results = pd.DataFrame()\n",
    "    aurocs = []\n",
    "    for (i, label) in enumerate(dummy_labels):\n",
    "      fpr, tpr, thresholds = roc_curve(test_Y[:,i].astype(int), final_pred[:,i])\n",
    "      if (label in target_labels):\n",
    "        #ax = fig.add_subplot(2,3,j)\n",
    "        score = auc(fpr, tpr)\n",
    "        ax.plot(fpr, tpr, label = '%s (AUC:%0.2f)'  % (label, score))\n",
    "        aurocs.append(score)\n",
    "        results = results.append({'Label': label, 'Score':score},ignore_index = True)\n",
    "      ax.legend()\n",
    "      ax.set_xlabel('False Positive Rate')\n",
    "      ax.set_ylabel('True Positive Rate')\n",
    "      ax.set_title('AUROC: {:0.4f}'.format(np.mean(aurocs)))\n",
    "    return results\n",
    "plot_majority_voting(test_predictions).to_csv('results/majority_voting.csv')\n",
    "plot_majority_voting(tta_prediction_means).to_csv('results/majority_voting_tta.csv')"
   ]
  },
  {
   "cell_type": "markdown",
   "metadata": {
    "colab_type": "text",
    "id": "FkqYIXhxRUko"
   },
   "source": [
    "Majority voting with threshold 0.2"
   ]
  },
  {
   "cell_type": "code",
   "execution_count": 14,
   "metadata": {
    "colab": {
     "base_uri": "https://localhost:8080/",
     "height": 728
    },
    "colab_type": "code",
    "id": "HmJ_wcO3EJD6",
    "outputId": "7e8d6a9e-dcac-4b78-f347-9d694d7c86de"
   },
   "outputs": [
    {
     "name": "stderr",
     "output_type": "stream",
     "text": [
      "No handles with labels found to put in legend.\n",
      "/usr/local/lib/python3.6/dist-packages/numpy/core/fromnumeric.py:3335: RuntimeWarning: Mean of empty slice.\n",
      "  out=out, **kwargs)\n",
      "/usr/local/lib/python3.6/dist-packages/numpy/core/_methods.py:161: RuntimeWarning: invalid value encountered in double_scalars\n",
      "  ret = ret.dtype.type(ret / rcount)\n",
      "No handles with labels found to put in legend.\n",
      "/usr/local/lib/python3.6/dist-packages/sklearn/metrics/_ranking.py:813: UndefinedMetricWarning: No positive samples in y_true, true positive value should be meaningless\n",
      "  UndefinedMetricWarning)\n",
      "No handles with labels found to put in legend.\n",
      "/usr/local/lib/python3.6/dist-packages/numpy/core/fromnumeric.py:3335: RuntimeWarning: Mean of empty slice.\n",
      "  out=out, **kwargs)\n",
      "/usr/local/lib/python3.6/dist-packages/numpy/core/_methods.py:161: RuntimeWarning: invalid value encountered in double_scalars\n",
      "  ret = ret.dtype.type(ret / rcount)\n",
      "No handles with labels found to put in legend.\n",
      "/usr/local/lib/python3.6/dist-packages/sklearn/metrics/_ranking.py:813: UndefinedMetricWarning: No positive samples in y_true, true positive value should be meaningless\n",
      "  UndefinedMetricWarning)\n"
     ]
    },
    {
     "data": {
      "image/png": "[encoded data removed]",
      "text/plain": [
       "<Figure size 504x504 with 1 Axes>"
      ]
     },
     "metadata": {
      "needs_background": "light"
     },
     "output_type": "display_data"
    },
    {
     "data": {
      "image/png": "[encoded data removed]",
      "text/plain": [
       "<Figure size 504x504 with 1 Axes>"
      ]
     },
     "metadata": {
      "needs_background": "light"
     },
     "output_type": "display_data"
    }
   ],
   "source": [
    "plot_majority_voting(test_predictions, threshold=0.2).to_csv('results/majority_voting_thr0.2.csv')\n",
    "plot_majority_voting(tta_prediction_means, threshold=0.2).to_csv('results/majority_voting_thr0.2_tta.csv')"
   ]
  },
  {
   "cell_type": "markdown",
   "metadata": {
    "colab_type": "text",
    "id": "-BfKohVB4EBb"
   },
   "source": [
    "# Voting"
   ]
  },
  {
   "cell_type": "code",
   "execution_count": null,
   "metadata": {
    "colab": {},
    "colab_type": "code",
    "id": "13ufsWB157__"
   },
   "outputs": [],
   "source": []
  },
  {
   "cell_type": "code",
   "execution_count": null,
   "metadata": {
    "colab": {},
    "colab_type": "code",
    "id": "Sh1q00s04L6U"
   },
   "outputs": [],
   "source": []
  },
  {
   "cell_type": "code",
   "execution_count": 15,
   "metadata": {
    "colab": {
     "base_uri": "https://localhost:8080/",
     "height": 634
    },
    "colab_type": "code",
    "id": "vgiwOlvN4mhZ",
    "outputId": "6aa23707-3db2-420b-f19a-7cae2281df5f"
   },
   "outputs": [
    {
     "name": "stderr",
     "output_type": "stream",
     "text": [
      "No handles with labels found to put in legend.\n",
      "/usr/local/lib/python3.6/dist-packages/numpy/core/fromnumeric.py:3335: RuntimeWarning: Mean of empty slice.\n",
      "  out=out, **kwargs)\n",
      "/usr/local/lib/python3.6/dist-packages/numpy/core/_methods.py:161: RuntimeWarning: invalid value encountered in double_scalars\n",
      "  ret = ret.dtype.type(ret / rcount)\n",
      "No handles with labels found to put in legend.\n",
      "/usr/local/lib/python3.6/dist-packages/sklearn/metrics/_ranking.py:813: UndefinedMetricWarning: No positive samples in y_true, true positive value should be meaningless\n",
      "  UndefinedMetricWarning)\n",
      "No handles with labels found to put in legend.\n",
      "/usr/local/lib/python3.6/dist-packages/numpy/core/fromnumeric.py:3335: RuntimeWarning: Mean of empty slice.\n",
      "  out=out, **kwargs)\n",
      "/usr/local/lib/python3.6/dist-packages/numpy/core/_methods.py:161: RuntimeWarning: invalid value encountered in double_scalars\n",
      "  ret = ret.dtype.type(ret / rcount)\n",
      "No handles with labels found to put in legend.\n",
      "/usr/local/lib/python3.6/dist-packages/sklearn/metrics/_ranking.py:813: UndefinedMetricWarning: No positive samples in y_true, true positive value should be meaningless\n",
      "  UndefinedMetricWarning)\n"
     ]
    },
    {
     "data": {
      "image/png": "[encoded data removed]",
      "text/plain": [
       "<Figure size 504x504 with 1 Axes>"
      ]
     },
     "metadata": {
      "needs_background": "light"
     },
     "output_type": "display_data"
    },
    {
     "data": {
      "image/png": "[encoded data removed]",
      "text/plain": [
       "<Figure size 504x504 with 1 Axes>"
      ]
     },
     "metadata": {
      "needs_background": "light"
     },
     "output_type": "display_data"
    }
   ],
   "source": [
    "def plot_voting(predictions):\n",
    "    from scipy.stats import entropy\n",
    "\n",
    "    entropies = entropy([predictions,1-predictions],base = 2)\n",
    "\n",
    "    binary_pred = predictions >= 0.2\n",
    "    binary_pred = binary_pred.astype(int)\n",
    "    final_pred = np.average(binary_pred,axis=0)\n",
    "    final_pred = final_pred.astype(float)\n",
    "\n",
    "    from sklearn.metrics import roc_curve, auc\n",
    "    import matplotlib.pyplot as plt\n",
    "\n",
    "    dummy_labels = ['No Finding', 'Enlarged Cardiomediastinum', 'Cardiomegaly', 'Lung Opacity', 'Lung Lesion', 'Edema', 'Consolidation', 'Pneumonia', 'Atelectasis',\n",
    "                    'Pneumothorax', 'Pleural Effusion', 'Pleural Other', 'Fracture', 'Support Devices']\n",
    "\n",
    "    target_labels = ['Cardiomegaly','Edema','Consolidation','Atelectasis','Pleural Effusion']\n",
    "\n",
    "    fig, ax = plt.subplots(1,1, figsize = (7, 7))\n",
    "    j = 1\n",
    "    results = pd.DataFrame()\n",
    "    aurocs = []\n",
    "    for (i, label) in enumerate(dummy_labels):\n",
    "      fpr, tpr, thresholds = roc_curve(test_Y[:,i].astype(int), final_pred[:,i])\n",
    "      if (label in target_labels):\n",
    "        #ax = fig.add_subplot(2,3,j)\n",
    "        score = auc(fpr, tpr)\n",
    "        ax.plot(fpr, tpr, label = '%s (AUC:%0.2f)'  % (label, score))\n",
    "        aurocs.append(score)\n",
    "        results = results.append({'Label': label, 'Score':score},ignore_index = True)\n",
    "      ax.legend()\n",
    "      ax.set_xlabel('False Positive Rate')\n",
    "      ax.set_ylabel('True Positive Rate')\n",
    "      ax.set_title('AUROC: {:0.4f}'.format(np.mean(aurocs)))\n",
    "    return results\n",
    "plot_voting(test_predictions).to_csv('results/voting.csv')\n",
    "plot_voting(tta_prediction_means).to_csv('results/voting_tta.csv')"
   ]
  },
  {
   "cell_type": "markdown",
   "metadata": {
    "colab_type": "text",
    "id": "z7MOoLtuFiY7"
   },
   "source": [
    "# Exporting Predictions\n"
   ]
  },
  {
   "cell_type": "code",
   "execution_count": 20,
   "metadata": {},
   "outputs": [],
   "source": [
    "# Exporting predictions \n",
    "np.save('Predictions/Paper/ground_truth', np.array(test_Y))\n",
    "np.save('Predictions/Paper/test_predictions_singlemodels', np.array(test_predictions))\n",
    "np.save('Predictions/Paper/test_predictions_simplemean', test_predictions.mean(axis=0))\n",
    "np.save('Predictions/Paper/test_predictions_weightedmean', weighted_predictions)\n"
   ]
  },
  {
   "cell_type": "markdown",
   "metadata": {
    "colab_type": "text",
    "id": "jm7FTz-HUn3C"
   },
   "source": [
    "# Stacking"
   ]
  },
  {
   "cell_type": "code",
   "execution_count": 20,
   "metadata": {
    "colab": {},
    "colab_type": "code",
    "id": "TI6EUAkw0XCb"
   },
   "outputs": [],
   "source": [
    "def build_meta_learner_dataset(models,dataset):\n",
    "  predictions = []\n",
    "  for model in models: \n",
    "    predictions.append(model.predict(dataset))\n",
    "  predictions = np.array(predictions)\n",
    "  new_pred = []\n",
    "  for i in range(predictions.shape[1]):\n",
    "    new_pred.append(predictions[:,i])\n",
    "  new_pred = np.array(new_pred)\n",
    "  X = new_pred.reshape((new_pred.shape[0],-1))\n",
    "\n",
    "  unbatched_dataset = dataset.unbatch()\n",
    "  Y = []\n",
    "  for _, labels in unbatched_dataset:\n",
    "    Y.append(labels.numpy())\n",
    "  Y = np.array(Y)\n",
    "  return X , Y\n",
    "\n",
    "def build_meta_learner_TTA_dataset(models, predictions, test_Y):\n",
    "    new_pred = list()\n",
    "    for i in range(predictions.shape[1]):\n",
    "        new_pred.append(predictions[:,i])\n",
    "    new_pred = np.array(new_pred)\n",
    "    X = new_pred.reshape((new_pred.shape[0],-1))\n",
    "    return X, test_Y"
   ]
  },
  {
   "cell_type": "code",
   "execution_count": 19,
   "metadata": {},
   "outputs": [
    {
     "data": {
      "text/plain": [
       "(7, 202, 14)"
      ]
     },
     "execution_count": 19,
     "metadata": {},
     "output_type": "execute_result"
    }
   ],
   "source": [
    "test_predictions.shape"
   ]
  },
  {
   "cell_type": "code",
   "execution_count": 21,
   "metadata": {
    "colab": {},
    "colab_type": "code",
    "id": "d2-xE5bpIP0x"
   },
   "outputs": [],
   "source": [
    "train_X, train_Y= build_meta_learner_dataset(models,val_dataset)"
   ]
  },
  {
   "cell_type": "code",
   "execution_count": 26,
   "metadata": {},
   "outputs": [],
   "source": [
    "test_X, test_Y = build_meta_learner_TTA_dataset(models, test_predictions, test_Y)\n",
    "test_X_tta, test_Y_tta = build_meta_learner_TTA_dataset(models, tta_prediction_means, test_Y)"
   ]
  },
  {
   "cell_type": "code",
   "execution_count": 45,
   "metadata": {
    "colab": {
     "base_uri": "https://localhost:8080/",
     "height": 156
    },
    "colab_type": "code",
    "id": "skRMxMekIouR",
    "outputId": "7ad895b5-625a-4731-a6b7-756e02138412"
   },
   "outputs": [],
   "source": [
    "from sklearn.ensemble import RandomForestClassifier\n",
    "rf = RandomForestClassifier(verbose=10,random_state=None, max_depth=30, max_features='sqrt', min_samples_split=5, n_estimators=1400)"
   ]
  },
  {
   "cell_type": "code",
   "execution_count": 46,
   "metadata": {
    "colab": {},
    "colab_type": "code",
    "id": "Gd4WvUDOfZ9j",
    "scrolled": true
   },
   "outputs": [
    {
     "name": "stderr",
     "output_type": "stream",
     "text": [
      "[Parallel(n_jobs=1)]: Using backend SequentialBackend with 1 concurrent workers.\n",
      "[Parallel(n_jobs=1)]: Done   1 out of   1 | elapsed:    0.1s remaining:    0.0s\n",
      "[Parallel(n_jobs=1)]: Done   2 out of   2 | elapsed:    0.1s remaining:    0.0s\n",
      "[Parallel(n_jobs=1)]: Done   3 out of   3 | elapsed:    0.2s remaining:    0.0s\n"
     ]
    },
    {
     "name": "stdout",
     "output_type": "stream",
     "text": [
      "building tree 1 of 1400\n",
      "building tree 2 of 1400\n",
      "building tree 3 of 1400\n",
      "building tree 4 of 1400\n"
     ]
    },
    {
     "name": "stderr",
     "output_type": "stream",
     "text": [
      "[Parallel(n_jobs=1)]: Done   4 out of   4 | elapsed:    0.2s remaining:    0.0s\n",
      "[Parallel(n_jobs=1)]: Done   5 out of   5 | elapsed:    0.3s remaining:    0.0s\n",
      "[Parallel(n_jobs=1)]: Done   6 out of   6 | elapsed:    0.4s remaining:    0.0s\n",
      "[Parallel(n_jobs=1)]: Done   7 out of   7 | elapsed:    0.4s remaining:    0.0s\n"
     ]
    },
    {
     "name": "stdout",
     "output_type": "stream",
     "text": [
      "building tree 5 of 1400\n",
      "building tree 6 of 1400\n",
      "building tree 7 of 1400\n",
      "building tree 8 of 1400\n"
     ]
    },
    {
     "name": "stderr",
     "output_type": "stream",
     "text": [
      "[Parallel(n_jobs=1)]: Done   8 out of   8 | elapsed:    0.5s remaining:    0.0s\n",
      "[Parallel(n_jobs=1)]: Done   9 out of   9 | elapsed:    0.5s remaining:    0.0s\n"
     ]
    },
    {
     "name": "stdout",
     "output_type": "stream",
     "text": [
      "building tree 9 of 1400\n",
      "building tree 10 of 1400\n",
      "building tree 11 of 1400\n",
      "building tree 12 of 1400\n",
      "building tree 13 of 1400\n",
      "building tree 14 of 1400\n",
      "building tree 15 of 1400\n",
      "building tree 16 of 1400\n",
      "building tree 17 of 1400\n",
      "building tree 18 of 1400\n",
      "building tree 19 of 1400\n",
      "building tree 20 of 1400\n",
      "building tree 21 of 1400\n",
      "building tree 22 of 1400\n",
      "building tree 23 of 1400\n",
      "building tree 24 of 1400\n",
      "building tree 25 of 1400\n",
      "building tree 26 of 1400\n",
      "building tree 27 of 1400\n",
      "building tree 28 of 1400\n",
      "building tree 29 of 1400\n",
      "building tree 30 of 1400\n",
      "building tree 31 of 1400\n",
      "building tree 32 of 1400\n",
      "building tree 33 of 1400\n",
      "building tree 34 of 1400\n",
      "building tree 35 of 1400\n",
      "building tree 36 of 1400\n",
      "building tree 37 of 1400\n",
      "building tree 38 of 1400\n",
      "building tree 39 of 1400\n",
      "building tree 40 of 1400\n",
      "building tree 41 of 1400\n",
      "building tree 42 of 1400\n",
      "building tree 43 of 1400\n",
      "building tree 44 of 1400\n",
      "building tree 45 of 1400\n",
      "building tree 46 of 1400\n",
      "building tree 47 of 1400\n",
      "building tree 48 of 1400\n",
      "building tree 49 of 1400\n",
      "building tree 50 of 1400\n",
      "building tree 51 of 1400\n",
      "building tree 52 of 1400\n",
      "building tree 53 of 1400\n",
      "building tree 54 of 1400\n",
      "building tree 55 of 1400\n",
      "building tree 56 of 1400\n",
      "building tree 57 of 1400\n",
      "building tree 58 of 1400\n",
      "building tree 59 of 1400\n",
      "building tree 60 of 1400\n",
      "building tree 61 of 1400\n",
      "building tree 62 of 1400\n",
      "building tree 63 of 1400\n",
      "building tree 64 of 1400\n",
      "building tree 65 of 1400\n",
      "building tree 66 of 1400\n",
      "building tree 67 of 1400\n",
      "building tree 68 of 1400\n",
      "building tree 69 of 1400\n",
      "building tree 70 of 1400\n",
      "building tree 71 of 1400\n",
      "building tree 72 of 1400\n",
      "building tree 73 of 1400\n",
      "building tree 74 of 1400\n",
      "building tree 75 of 1400\n",
      "building tree 76 of 1400\n",
      "building tree 77 of 1400\n",
      "building tree 78 of 1400\n",
      "building tree 79 of 1400\n",
      "building tree 80 of 1400\n",
      "building tree 81 of 1400\n",
      "building tree 82 of 1400\n",
      "building tree 83 of 1400\n",
      "building tree 84 of 1400\n",
      "building tree 85 of 1400\n",
      "building tree 86 of 1400\n",
      "building tree 87 of 1400\n",
      "building tree 88 of 1400\n",
      "building tree 89 of 1400\n",
      "building tree 90 of 1400\n",
      "building tree 91 of 1400\n",
      "building tree 92 of 1400\n",
      "building tree 93 of 1400\n",
      "building tree 94 of 1400\n",
      "building tree 95 of 1400\n",
      "building tree 96 of 1400\n",
      "building tree 97 of 1400\n",
      "building tree 98 of 1400\n",
      "building tree 99 of 1400\n",
      "building tree 100 of 1400\n",
      "building tree 101 of 1400\n",
      "building tree 102 of 1400\n",
      "building tree 103 of 1400\n",
      "building tree 104 of 1400\n",
      "building tree 105 of 1400\n",
      "building tree 106 of 1400\n",
      "building tree 107 of 1400\n",
      "building tree 108 of 1400\n",
      "building tree 109 of 1400\n",
      "building tree 110 of 1400\n",
      "building tree 111 of 1400\n",
      "building tree 112 of 1400\n",
      "building tree 113 of 1400\n",
      "building tree 114 of 1400\n",
      "building tree 115 of 1400\n",
      "building tree 116 of 1400\n",
      "building tree 117 of 1400\n",
      "building tree 118 of 1400\n",
      "building tree 119 of 1400\n",
      "building tree 120 of 1400\n",
      "building tree 121 of 1400\n",
      "building tree 122 of 1400\n",
      "building tree 123 of 1400\n",
      "building tree 124 of 1400\n",
      "building tree 125 of 1400\n",
      "building tree 126 of 1400\n",
      "building tree 127 of 1400\n",
      "building tree 128 of 1400\n",
      "building tree 129 of 1400\n",
      "building tree 130 of 1400\n",
      "building tree 131 of 1400\n",
      "building tree 132 of 1400\n",
      "building tree 133 of 1400\n",
      "building tree 134 of 1400\n",
      "building tree 135 of 1400\n",
      "building tree 136 of 1400\n",
      "building tree 137 of 1400\n",
      "building tree 138 of 1400\n",
      "building tree 139 of 1400\n",
      "building tree 140 of 1400\n",
      "building tree 141 of 1400\n",
      "building tree 142 of 1400\n",
      "building tree 143 of 1400\n",
      "building tree 144 of 1400\n",
      "building tree 145 of 1400\n",
      "building tree 146 of 1400\n",
      "building tree 147 of 1400\n",
      "building tree 148 of 1400\n",
      "building tree 149 of 1400\n",
      "building tree 150 of 1400\n",
      "building tree 151 of 1400\n",
      "building tree 152 of 1400\n",
      "building tree 153 of 1400\n",
      "building tree 154 of 1400\n",
      "building tree 155 of 1400\n",
      "building tree 156 of 1400\n",
      "building tree 157 of 1400\n",
      "building tree 158 of 1400\n",
      "building tree 159 of 1400\n",
      "building tree 160 of 1400\n",
      "building tree 161 of 1400\n",
      "building tree 162 of 1400\n",
      "building tree 163 of 1400\n",
      "building tree 164 of 1400\n",
      "building tree 165 of 1400\n",
      "building tree 166 of 1400\n",
      "building tree 167 of 1400\n",
      "building tree 168 of 1400\n",
      "building tree 169 of 1400\n",
      "building tree 170 of 1400\n",
      "building tree 171 of 1400\n",
      "building tree 172 of 1400\n",
      "building tree 173 of 1400\n",
      "building tree 174 of 1400\n",
      "building tree 175 of 1400\n",
      "building tree 176 of 1400\n",
      "building tree 177 of 1400\n",
      "building tree 178 of 1400\n",
      "building tree 179 of 1400\n",
      "building tree 180 of 1400\n",
      "building tree 181 of 1400\n",
      "building tree 182 of 1400\n",
      "building tree 183 of 1400\n",
      "building tree 184 of 1400\n",
      "building tree 185 of 1400\n",
      "building tree 186 of 1400\n",
      "building tree 187 of 1400\n",
      "building tree 188 of 1400\n",
      "building tree 189 of 1400\n",
      "building tree 190 of 1400\n",
      "building tree 191 of 1400\n",
      "building tree 192 of 1400\n",
      "building tree 193 of 1400\n",
      "building tree 194 of 1400\n",
      "building tree 195 of 1400\n",
      "building tree 196 of 1400\n",
      "building tree 197 of 1400\n",
      "building tree 198 of 1400\n",
      "building tree 199 of 1400\n",
      "building tree 200 of 1400\n",
      "building tree 201 of 1400\n",
      "building tree 202 of 1400\n",
      "building tree 203 of 1400\n",
      "building tree 204 of 1400\n",
      "building tree 205 of 1400\n",
      "building tree 206 of 1400\n",
      "building tree 207 of 1400\n",
      "building tree 208 of 1400\n",
      "building tree 209 of 1400\n",
      "building tree 210 of 1400\n",
      "building tree 211 of 1400\n",
      "building tree 212 of 1400\n",
      "building tree 213 of 1400\n",
      "building tree 214 of 1400\n",
      "building tree 215 of 1400\n",
      "building tree 216 of 1400\n",
      "building tree 217 of 1400\n",
      "building tree 218 of 1400\n",
      "building tree 219 of 1400\n",
      "building tree 220 of 1400\n",
      "building tree 221 of 1400\n",
      "building tree 222 of 1400\n",
      "building tree 223 of 1400\n",
      "building tree 224 of 1400\n",
      "building tree 225 of 1400\n",
      "building tree 226 of 1400\n",
      "building tree 227 of 1400\n",
      "building tree 228 of 1400\n",
      "building tree 229 of 1400\n",
      "building tree 230 of 1400\n",
      "building tree 231 of 1400\n",
      "building tree 232 of 1400\n",
      "building tree 233 of 1400\n",
      "building tree 234 of 1400\n",
      "building tree 235 of 1400\n",
      "building tree 236 of 1400\n",
      "building tree 237 of 1400\n",
      "building tree 238 of 1400\n",
      "building tree 239 of 1400\n",
      "building tree 240 of 1400\n",
      "building tree 241 of 1400\n",
      "building tree 242 of 1400\n",
      "building tree 243 of 1400\n",
      "building tree 244 of 1400\n",
      "building tree 245 of 1400\n",
      "building tree 246 of 1400\n",
      "building tree 247 of 1400\n",
      "building tree 248 of 1400\n",
      "building tree 249 of 1400\n",
      "building tree 250 of 1400\n",
      "building tree 251 of 1400\n",
      "building tree 252 of 1400\n",
      "building tree 253 of 1400\n",
      "building tree 254 of 1400\n",
      "building tree 255 of 1400\n",
      "building tree 256 of 1400\n",
      "building tree 257 of 1400\n",
      "building tree 258 of 1400\n",
      "building tree 259 of 1400\n",
      "building tree 260 of 1400\n",
      "building tree 261 of 1400\n",
      "building tree 262 of 1400\n",
      "building tree 263 of 1400\n",
      "building tree 264 of 1400\n",
      "building tree 265 of 1400\n",
      "building tree 266 of 1400\n",
      "building tree 267 of 1400\n",
      "building tree 268 of 1400\n",
      "building tree 269 of 1400\n",
      "building tree 270 of 1400\n",
      "building tree 271 of 1400\n",
      "building tree 272 of 1400\n",
      "building tree 273 of 1400\n",
      "building tree 274 of 1400\n",
      "building tree 275 of 1400\n",
      "building tree 276 of 1400\n",
      "building tree 277 of 1400\n",
      "building tree 278 of 1400\n",
      "building tree 279 of 1400\n",
      "building tree 280 of 1400\n",
      "building tree 281 of 1400\n",
      "building tree 282 of 1400\n",
      "building tree 283 of 1400\n",
      "building tree 284 of 1400\n",
      "building tree 285 of 1400\n",
      "building tree 286 of 1400\n",
      "building tree 287 of 1400\n",
      "building tree 288 of 1400\n",
      "building tree 289 of 1400\n",
      "building tree 290 of 1400\n",
      "building tree 291 of 1400\n",
      "building tree 292 of 1400\n",
      "building tree 293 of 1400\n",
      "building tree 294 of 1400\n",
      "building tree 295 of 1400\n",
      "building tree 296 of 1400\n",
      "building tree 297 of 1400\n",
      "building tree 298 of 1400\n",
      "building tree 299 of 1400\n",
      "building tree 300 of 1400\n",
      "building tree 301 of 1400\n",
      "building tree 302 of 1400\n",
      "building tree 303 of 1400\n",
      "building tree 304 of 1400\n",
      "building tree 305 of 1400\n",
      "building tree 306 of 1400\n",
      "building tree 307 of 1400\n",
      "building tree 308 of 1400\n",
      "building tree 309 of 1400\n",
      "building tree 310 of 1400\n",
      "building tree 311 of 1400\n",
      "building tree 312 of 1400\n",
      "building tree 313 of 1400\n",
      "building tree 314 of 1400\n",
      "building tree 315 of 1400\n",
      "building tree 316 of 1400\n",
      "building tree 317 of 1400\n",
      "building tree 318 of 1400\n",
      "building tree 319 of 1400\n",
      "building tree 320 of 1400\n",
      "building tree 321 of 1400\n",
      "building tree 322 of 1400\n",
      "building tree 323 of 1400\n",
      "building tree 324 of 1400\n",
      "building tree 325 of 1400\n",
      "building tree 326 of 1400\n",
      "building tree 327 of 1400\n",
      "building tree 328 of 1400\n",
      "building tree 329 of 1400\n",
      "building tree 330 of 1400\n",
      "building tree 331 of 1400\n",
      "building tree 332 of 1400\n",
      "building tree 333 of 1400\n",
      "building tree 334 of 1400\n",
      "building tree 335 of 1400\n",
      "building tree 336 of 1400\n",
      "building tree 337 of 1400\n",
      "building tree 338 of 1400\n",
      "building tree 339 of 1400\n",
      "building tree 340 of 1400\n",
      "building tree 341 of 1400\n",
      "building tree 342 of 1400\n",
      "building tree 343 of 1400\n",
      "building tree 344 of 1400\n",
      "building tree 345 of 1400\n",
      "building tree 346 of 1400\n",
      "building tree 347 of 1400\n",
      "building tree 348 of 1400\n",
      "building tree 349 of 1400\n",
      "building tree 350 of 1400\n",
      "building tree 351 of 1400\n",
      "building tree 352 of 1400\n",
      "building tree 353 of 1400\n",
      "building tree 354 of 1400\n",
      "building tree 355 of 1400\n",
      "building tree 356 of 1400\n",
      "building tree 357 of 1400\n",
      "building tree 358 of 1400\n",
      "building tree 359 of 1400\n",
      "building tree 360 of 1400\n",
      "building tree 361 of 1400\n",
      "building tree 362 of 1400\n",
      "building tree 363 of 1400\n",
      "building tree 364 of 1400\n",
      "building tree 365 of 1400\n",
      "building tree 366 of 1400\n",
      "building tree 367 of 1400\n",
      "building tree 368 of 1400\n",
      "building tree 369 of 1400\n",
      "building tree 370 of 1400\n",
      "building tree 371 of 1400\n",
      "building tree 372 of 1400\n",
      "building tree 373 of 1400\n",
      "building tree 374 of 1400\n",
      "building tree 375 of 1400\n",
      "building tree 376 of 1400\n",
      "building tree 377 of 1400\n",
      "building tree 378 of 1400\n",
      "building tree 379 of 1400\n",
      "building tree 380 of 1400\n",
      "building tree 381 of 1400\n",
      "building tree 382 of 1400\n",
      "building tree 383 of 1400\n",
      "building tree 384 of 1400\n",
      "building tree 385 of 1400\n",
      "building tree 386 of 1400\n",
      "building tree 387 of 1400\n",
      "building tree 388 of 1400\n",
      "building tree 389 of 1400\n",
      "building tree 390 of 1400\n",
      "building tree 391 of 1400\n",
      "building tree 392 of 1400\n",
      "building tree 393 of 1400\n",
      "building tree 394 of 1400\n",
      "building tree 395 of 1400\n",
      "building tree 396 of 1400\n",
      "building tree 397 of 1400\n",
      "building tree 398 of 1400\n",
      "building tree 399 of 1400\n",
      "building tree 400 of 1400\n",
      "building tree 401 of 1400\n",
      "building tree 402 of 1400\n",
      "building tree 403 of 1400\n",
      "building tree 404 of 1400\n",
      "building tree 405 of 1400\n",
      "building tree 406 of 1400\n",
      "building tree 407 of 1400\n",
      "building tree 408 of 1400\n",
      "building tree 409 of 1400\n",
      "building tree 410 of 1400\n",
      "building tree 411 of 1400\n",
      "building tree 412 of 1400\n",
      "building tree 413 of 1400\n",
      "building tree 414 of 1400\n",
      "building tree 415 of 1400\n",
      "building tree 416 of 1400\n",
      "building tree 417 of 1400\n",
      "building tree 418 of 1400\n",
      "building tree 419 of 1400\n",
      "building tree 420 of 1400\n",
      "building tree 421 of 1400\n",
      "building tree 422 of 1400\n",
      "building tree 423 of 1400\n",
      "building tree 424 of 1400\n",
      "building tree 425 of 1400\n",
      "building tree 426 of 1400\n",
      "building tree 427 of 1400\n",
      "building tree 428 of 1400\n",
      "building tree 429 of 1400\n",
      "building tree 430 of 1400\n",
      "building tree 431 of 1400\n",
      "building tree 432 of 1400\n",
      "building tree 433 of 1400\n",
      "building tree 434 of 1400\n",
      "building tree 435 of 1400\n",
      "building tree 436 of 1400\n",
      "building tree 437 of 1400\n",
      "building tree 438 of 1400\n",
      "building tree 439 of 1400\n",
      "building tree 440 of 1400\n",
      "building tree 441 of 1400\n",
      "building tree 442 of 1400\n",
      "building tree 443 of 1400\n",
      "building tree 444 of 1400\n",
      "building tree 445 of 1400\n",
      "building tree 446 of 1400\n",
      "building tree 447 of 1400\n",
      "building tree 448 of 1400\n",
      "building tree 449 of 1400\n",
      "building tree 450 of 1400\n",
      "building tree 451 of 1400\n",
      "building tree 452 of 1400\n",
      "building tree 453 of 1400\n",
      "building tree 454 of 1400\n",
      "building tree 455 of 1400\n",
      "building tree 456 of 1400\n",
      "building tree 457 of 1400\n",
      "building tree 458 of 1400\n",
      "building tree 459 of 1400\n",
      "building tree 460 of 1400\n",
      "building tree 461 of 1400\n",
      "building tree 462 of 1400\n",
      "building tree 463 of 1400\n",
      "building tree 464 of 1400\n",
      "building tree 465 of 1400\n",
      "building tree 466 of 1400\n",
      "building tree 467 of 1400\n",
      "building tree 468 of 1400\n",
      "building tree 469 of 1400\n",
      "building tree 470 of 1400\n",
      "building tree 471 of 1400\n",
      "building tree 472 of 1400\n",
      "building tree 473 of 1400\n",
      "building tree 474 of 1400\n",
      "building tree 475 of 1400\n",
      "building tree 476 of 1400\n",
      "building tree 477 of 1400\n",
      "building tree 478 of 1400\n",
      "building tree 479 of 1400\n",
      "building tree 480 of 1400\n",
      "building tree 481 of 1400\n",
      "building tree 482 of 1400\n",
      "building tree 483 of 1400\n",
      "building tree 484 of 1400\n",
      "building tree 485 of 1400\n",
      "building tree 486 of 1400\n",
      "building tree 487 of 1400\n",
      "building tree 488 of 1400\n",
      "building tree 489 of 1400\n",
      "building tree 490 of 1400\n",
      "building tree 491 of 1400\n",
      "building tree 492 of 1400\n",
      "building tree 493 of 1400\n",
      "building tree 494 of 1400\n",
      "building tree 495 of 1400\n",
      "building tree 496 of 1400\n",
      "building tree 497 of 1400\n",
      "building tree 498 of 1400\n",
      "building tree 499 of 1400\n",
      "building tree 500 of 1400\n",
      "building tree 501 of 1400\n",
      "building tree 502 of 1400\n",
      "building tree 503 of 1400\n",
      "building tree 504 of 1400\n",
      "building tree 505 of 1400\n",
      "building tree 506 of 1400\n",
      "building tree 507 of 1400\n",
      "building tree 508 of 1400\n",
      "building tree 509 of 1400\n",
      "building tree 510 of 1400\n",
      "building tree 511 of 1400\n",
      "building tree 512 of 1400\n",
      "building tree 513 of 1400\n",
      "building tree 514 of 1400\n",
      "building tree 515 of 1400\n",
      "building tree 516 of 1400\n",
      "building tree 517 of 1400\n",
      "building tree 518 of 1400\n",
      "building tree 519 of 1400\n",
      "building tree 520 of 1400\n",
      "building tree 521 of 1400\n",
      "building tree 522 of 1400\n",
      "building tree 523 of 1400\n",
      "building tree 524 of 1400\n",
      "building tree 525 of 1400\n",
      "building tree 526 of 1400\n",
      "building tree 527 of 1400\n",
      "building tree 528 of 1400\n",
      "building tree 529 of 1400\n",
      "building tree 530 of 1400\n",
      "building tree 531 of 1400\n",
      "building tree 532 of 1400\n",
      "building tree 533 of 1400\n",
      "building tree 534 of 1400\n",
      "building tree 535 of 1400\n",
      "building tree 536 of 1400\n",
      "building tree 537 of 1400\n",
      "building tree 538 of 1400\n",
      "building tree 539 of 1400\n",
      "building tree 540 of 1400\n",
      "building tree 541 of 1400\n",
      "building tree 542 of 1400\n",
      "building tree 543 of 1400\n",
      "building tree 544 of 1400\n",
      "building tree 545 of 1400\n",
      "building tree 546 of 1400\n",
      "building tree 547 of 1400\n",
      "building tree 548 of 1400\n",
      "building tree 549 of 1400\n",
      "building tree 550 of 1400\n",
      "building tree 551 of 1400\n",
      "building tree 552 of 1400\n",
      "building tree 553 of 1400\n",
      "building tree 554 of 1400\n",
      "building tree 555 of 1400\n",
      "building tree 556 of 1400\n",
      "building tree 557 of 1400\n",
      "building tree 558 of 1400\n",
      "building tree 559 of 1400\n",
      "building tree 560 of 1400\n",
      "building tree 561 of 1400\n",
      "building tree 562 of 1400\n",
      "building tree 563 of 1400\n",
      "building tree 564 of 1400\n",
      "building tree 565 of 1400\n",
      "building tree 566 of 1400\n",
      "building tree 567 of 1400\n",
      "building tree 568 of 1400\n",
      "building tree 569 of 1400\n",
      "building tree 570 of 1400\n",
      "building tree 571 of 1400\n",
      "building tree 572 of 1400\n",
      "building tree 573 of 1400\n",
      "building tree 574 of 1400\n",
      "building tree 575 of 1400\n",
      "building tree 576 of 1400\n",
      "building tree 577 of 1400\n",
      "building tree 578 of 1400\n",
      "building tree 579 of 1400\n",
      "building tree 580 of 1400\n",
      "building tree 581 of 1400\n",
      "building tree 582 of 1400\n",
      "building tree 583 of 1400\n",
      "building tree 584 of 1400\n",
      "building tree 585 of 1400\n",
      "building tree 586 of 1400\n",
      "building tree 587 of 1400\n",
      "building tree 588 of 1400\n",
      "building tree 589 of 1400\n",
      "building tree 590 of 1400\n",
      "building tree 591 of 1400\n",
      "building tree 592 of 1400\n",
      "building tree 593 of 1400\n",
      "building tree 594 of 1400\n",
      "building tree 595 of 1400\n",
      "building tree 596 of 1400\n",
      "building tree 597 of 1400\n",
      "building tree 598 of 1400\n",
      "building tree 599 of 1400\n",
      "building tree 600 of 1400\n",
      "building tree 601 of 1400\n",
      "building tree 602 of 1400\n",
      "building tree 603 of 1400\n",
      "building tree 604 of 1400\n",
      "building tree 605 of 1400\n",
      "building tree 606 of 1400\n",
      "building tree 607 of 1400\n",
      "building tree 608 of 1400\n",
      "building tree 609 of 1400\n",
      "building tree 610 of 1400\n",
      "building tree 611 of 1400\n",
      "building tree 612 of 1400\n",
      "building tree 613 of 1400\n",
      "building tree 614 of 1400\n",
      "building tree 615 of 1400\n",
      "building tree 616 of 1400\n",
      "building tree 617 of 1400\n",
      "building tree 618 of 1400\n",
      "building tree 619 of 1400\n",
      "building tree 620 of 1400\n",
      "building tree 621 of 1400\n",
      "building tree 622 of 1400\n",
      "building tree 623 of 1400\n",
      "building tree 624 of 1400\n",
      "building tree 625 of 1400\n",
      "building tree 626 of 1400\n",
      "building tree 627 of 1400\n",
      "building tree 628 of 1400\n",
      "building tree 629 of 1400\n",
      "building tree 630 of 1400\n",
      "building tree 631 of 1400\n",
      "building tree 632 of 1400\n",
      "building tree 633 of 1400\n",
      "building tree 634 of 1400\n",
      "building tree 635 of 1400\n",
      "building tree 636 of 1400\n",
      "building tree 637 of 1400\n",
      "building tree 638 of 1400\n",
      "building tree 639 of 1400\n",
      "building tree 640 of 1400\n",
      "building tree 641 of 1400\n",
      "building tree 642 of 1400\n",
      "building tree 643 of 1400\n",
      "building tree 644 of 1400\n",
      "building tree 645 of 1400\n",
      "building tree 646 of 1400\n",
      "building tree 647 of 1400\n",
      "building tree 648 of 1400\n",
      "building tree 649 of 1400\n",
      "building tree 650 of 1400\n",
      "building tree 651 of 1400\n",
      "building tree 652 of 1400\n",
      "building tree 653 of 1400\n",
      "building tree 654 of 1400\n",
      "building tree 655 of 1400\n",
      "building tree 656 of 1400\n",
      "building tree 657 of 1400\n",
      "building tree 658 of 1400\n",
      "building tree 659 of 1400\n",
      "building tree 660 of 1400\n",
      "building tree 661 of 1400\n",
      "building tree 662 of 1400\n",
      "building tree 663 of 1400\n",
      "building tree 664 of 1400\n",
      "building tree 665 of 1400\n",
      "building tree 666 of 1400\n",
      "building tree 667 of 1400\n",
      "building tree 668 of 1400\n",
      "building tree 669 of 1400\n",
      "building tree 670 of 1400\n",
      "building tree 671 of 1400\n",
      "building tree 672 of 1400\n",
      "building tree 673 of 1400\n",
      "building tree 674 of 1400\n",
      "building tree 675 of 1400\n",
      "building tree 676 of 1400\n",
      "building tree 677 of 1400\n",
      "building tree 678 of 1400\n",
      "building tree 679 of 1400\n",
      "building tree 680 of 1400\n",
      "building tree 681 of 1400\n",
      "building tree 682 of 1400\n",
      "building tree 683 of 1400\n",
      "building tree 684 of 1400\n",
      "building tree 685 of 1400\n",
      "building tree 686 of 1400\n",
      "building tree 687 of 1400\n",
      "building tree 688 of 1400\n",
      "building tree 689 of 1400\n",
      "building tree 690 of 1400\n",
      "building tree 691 of 1400\n",
      "building tree 692 of 1400\n",
      "building tree 693 of 1400\n",
      "building tree 694 of 1400\n",
      "building tree 695 of 1400\n",
      "building tree 696 of 1400\n",
      "building tree 697 of 1400\n",
      "building tree 698 of 1400\n",
      "building tree 699 of 1400\n",
      "building tree 700 of 1400\n",
      "building tree 701 of 1400\n",
      "building tree 702 of 1400\n",
      "building tree 703 of 1400\n",
      "building tree 704 of 1400\n",
      "building tree 705 of 1400\n",
      "building tree 706 of 1400\n",
      "building tree 707 of 1400\n",
      "building tree 708 of 1400\n",
      "building tree 709 of 1400\n",
      "building tree 710 of 1400\n",
      "building tree 711 of 1400\n",
      "building tree 712 of 1400\n",
      "building tree 713 of 1400\n",
      "building tree 714 of 1400\n",
      "building tree 715 of 1400\n",
      "building tree 716 of 1400\n",
      "building tree 717 of 1400\n",
      "building tree 718 of 1400\n",
      "building tree 719 of 1400\n",
      "building tree 720 of 1400\n",
      "building tree 721 of 1400\n",
      "building tree 722 of 1400\n",
      "building tree 723 of 1400\n",
      "building tree 724 of 1400\n",
      "building tree 725 of 1400\n",
      "building tree 726 of 1400\n",
      "building tree 727 of 1400\n",
      "building tree 728 of 1400\n",
      "building tree 729 of 1400\n",
      "building tree 730 of 1400\n",
      "building tree 731 of 1400\n",
      "building tree 732 of 1400\n",
      "building tree 733 of 1400\n",
      "building tree 734 of 1400\n",
      "building tree 735 of 1400\n",
      "building tree 736 of 1400\n",
      "building tree 737 of 1400\n",
      "building tree 738 of 1400\n",
      "building tree 739 of 1400\n",
      "building tree 740 of 1400\n",
      "building tree 741 of 1400\n",
      "building tree 742 of 1400\n",
      "building tree 743 of 1400\n",
      "building tree 744 of 1400\n",
      "building tree 745 of 1400\n",
      "building tree 746 of 1400\n",
      "building tree 747 of 1400\n",
      "building tree 748 of 1400\n",
      "building tree 749 of 1400\n",
      "building tree 750 of 1400\n",
      "building tree 751 of 1400\n",
      "building tree 752 of 1400\n",
      "building tree 753 of 1400\n",
      "building tree 754 of 1400\n",
      "building tree 755 of 1400\n",
      "building tree 756 of 1400\n",
      "building tree 757 of 1400\n",
      "building tree 758 of 1400\n",
      "building tree 759 of 1400\n",
      "building tree 760 of 1400\n",
      "building tree 761 of 1400\n",
      "building tree 762 of 1400\n",
      "building tree 763 of 1400\n",
      "building tree 764 of 1400\n",
      "building tree 765 of 1400\n",
      "building tree 766 of 1400\n",
      "building tree 767 of 1400\n",
      "building tree 768 of 1400\n",
      "building tree 769 of 1400\n",
      "building tree 770 of 1400\n",
      "building tree 771 of 1400\n",
      "building tree 772 of 1400\n",
      "building tree 773 of 1400\n",
      "building tree 774 of 1400\n",
      "building tree 775 of 1400\n",
      "building tree 776 of 1400\n",
      "building tree 777 of 1400\n",
      "building tree 778 of 1400\n",
      "building tree 779 of 1400\n",
      "building tree 780 of 1400\n",
      "building tree 781 of 1400\n",
      "building tree 782 of 1400\n",
      "building tree 783 of 1400\n",
      "building tree 784 of 1400\n",
      "building tree 785 of 1400\n",
      "building tree 786 of 1400\n",
      "building tree 787 of 1400\n",
      "building tree 788 of 1400\n",
      "building tree 789 of 1400\n",
      "building tree 790 of 1400\n",
      "building tree 791 of 1400\n",
      "building tree 792 of 1400\n",
      "building tree 793 of 1400\n",
      "building tree 794 of 1400\n",
      "building tree 795 of 1400\n",
      "building tree 796 of 1400\n",
      "building tree 797 of 1400\n",
      "building tree 798 of 1400\n",
      "building tree 799 of 1400\n",
      "building tree 800 of 1400\n",
      "building tree 801 of 1400\n",
      "building tree 802 of 1400\n",
      "building tree 803 of 1400\n",
      "building tree 804 of 1400\n",
      "building tree 805 of 1400\n",
      "building tree 806 of 1400\n",
      "building tree 807 of 1400\n",
      "building tree 808 of 1400\n",
      "building tree 809 of 1400\n",
      "building tree 810 of 1400\n",
      "building tree 811 of 1400\n",
      "building tree 812 of 1400\n",
      "building tree 813 of 1400\n",
      "building tree 814 of 1400\n",
      "building tree 815 of 1400\n",
      "building tree 816 of 1400\n",
      "building tree 817 of 1400\n",
      "building tree 818 of 1400\n",
      "building tree 819 of 1400\n",
      "building tree 820 of 1400\n",
      "building tree 821 of 1400\n",
      "building tree 822 of 1400\n",
      "building tree 823 of 1400\n",
      "building tree 824 of 1400\n",
      "building tree 825 of 1400\n",
      "building tree 826 of 1400\n",
      "building tree 827 of 1400\n",
      "building tree 828 of 1400\n",
      "building tree 829 of 1400\n",
      "building tree 830 of 1400\n",
      "building tree 831 of 1400\n",
      "building tree 832 of 1400\n",
      "building tree 833 of 1400\n",
      "building tree 834 of 1400\n",
      "building tree 835 of 1400\n",
      "building tree 836 of 1400\n",
      "building tree 837 of 1400\n",
      "building tree 838 of 1400\n",
      "building tree 839 of 1400\n",
      "building tree 840 of 1400\n",
      "building tree 841 of 1400\n",
      "building tree 842 of 1400\n",
      "building tree 843 of 1400\n",
      "building tree 844 of 1400\n",
      "building tree 845 of 1400\n",
      "building tree 846 of 1400\n",
      "building tree 847 of 1400\n",
      "building tree 848 of 1400\n",
      "building tree 849 of 1400\n",
      "building tree 850 of 1400\n",
      "building tree 851 of 1400\n",
      "building tree 852 of 1400\n",
      "building tree 853 of 1400\n",
      "building tree 854 of 1400\n",
      "building tree 855 of 1400\n",
      "building tree 856 of 1400\n",
      "building tree 857 of 1400\n",
      "building tree 858 of 1400\n",
      "building tree 859 of 1400\n",
      "building tree 860 of 1400\n",
      "building tree 861 of 1400\n",
      "building tree 862 of 1400\n",
      "building tree 863 of 1400\n",
      "building tree 864 of 1400\n",
      "building tree 865 of 1400\n",
      "building tree 866 of 1400\n",
      "building tree 867 of 1400\n",
      "building tree 868 of 1400\n",
      "building tree 869 of 1400\n",
      "building tree 870 of 1400\n",
      "building tree 871 of 1400\n",
      "building tree 872 of 1400\n",
      "building tree 873 of 1400\n",
      "building tree 874 of 1400\n",
      "building tree 875 of 1400\n",
      "building tree 876 of 1400\n",
      "building tree 877 of 1400\n",
      "building tree 878 of 1400\n",
      "building tree 879 of 1400\n",
      "building tree 880 of 1400\n",
      "building tree 881 of 1400\n",
      "building tree 882 of 1400\n",
      "building tree 883 of 1400\n",
      "building tree 884 of 1400\n",
      "building tree 885 of 1400\n",
      "building tree 886 of 1400\n",
      "building tree 887 of 1400\n",
      "building tree 888 of 1400\n",
      "building tree 889 of 1400\n",
      "building tree 890 of 1400\n",
      "building tree 891 of 1400\n",
      "building tree 892 of 1400\n",
      "building tree 893 of 1400\n",
      "building tree 894 of 1400\n",
      "building tree 895 of 1400\n",
      "building tree 896 of 1400\n",
      "building tree 897 of 1400\n",
      "building tree 898 of 1400\n",
      "building tree 899 of 1400\n",
      "building tree 900 of 1400\n",
      "building tree 901 of 1400\n",
      "building tree 902 of 1400\n",
      "building tree 903 of 1400\n",
      "building tree 904 of 1400\n",
      "building tree 905 of 1400\n",
      "building tree 906 of 1400\n",
      "building tree 907 of 1400\n",
      "building tree 908 of 1400\n",
      "building tree 909 of 1400\n",
      "building tree 910 of 1400\n",
      "building tree 911 of 1400\n",
      "building tree 912 of 1400\n",
      "building tree 913 of 1400\n",
      "building tree 914 of 1400\n",
      "building tree 915 of 1400\n",
      "building tree 916 of 1400\n",
      "building tree 917 of 1400\n",
      "building tree 918 of 1400\n",
      "building tree 919 of 1400\n",
      "building tree 920 of 1400\n",
      "building tree 921 of 1400\n",
      "building tree 922 of 1400\n",
      "building tree 923 of 1400\n",
      "building tree 924 of 1400\n",
      "building tree 925 of 1400\n",
      "building tree 926 of 1400\n",
      "building tree 927 of 1400\n",
      "building tree 928 of 1400\n",
      "building tree 929 of 1400\n",
      "building tree 930 of 1400\n",
      "building tree 931 of 1400\n",
      "building tree 932 of 1400\n",
      "building tree 933 of 1400\n",
      "building tree 934 of 1400\n",
      "building tree 935 of 1400\n",
      "building tree 936 of 1400\n",
      "building tree 937 of 1400\n",
      "building tree 938 of 1400\n",
      "building tree 939 of 1400\n",
      "building tree 940 of 1400\n",
      "building tree 941 of 1400\n",
      "building tree 942 of 1400\n",
      "building tree 943 of 1400\n",
      "building tree 944 of 1400\n",
      "building tree 945 of 1400\n",
      "building tree 946 of 1400\n",
      "building tree 947 of 1400\n",
      "building tree 948 of 1400\n",
      "building tree 949 of 1400\n",
      "building tree 950 of 1400\n",
      "building tree 951 of 1400\n",
      "building tree 952 of 1400\n",
      "building tree 953 of 1400\n",
      "building tree 954 of 1400\n",
      "building tree 955 of 1400\n",
      "building tree 956 of 1400\n",
      "building tree 957 of 1400\n",
      "building tree 958 of 1400\n",
      "building tree 959 of 1400\n",
      "building tree 960 of 1400\n",
      "building tree 961 of 1400\n",
      "building tree 962 of 1400\n",
      "building tree 963 of 1400\n",
      "building tree 964 of 1400\n",
      "building tree 965 of 1400\n",
      "building tree 966 of 1400\n",
      "building tree 967 of 1400\n",
      "building tree 968 of 1400\n",
      "building tree 969 of 1400\n",
      "building tree 970 of 1400\n",
      "building tree 971 of 1400\n",
      "building tree 972 of 1400\n",
      "building tree 973 of 1400\n",
      "building tree 974 of 1400\n",
      "building tree 975 of 1400\n",
      "building tree 976 of 1400\n",
      "building tree 977 of 1400\n",
      "building tree 978 of 1400\n",
      "building tree 979 of 1400\n",
      "building tree 980 of 1400\n",
      "building tree 981 of 1400\n",
      "building tree 982 of 1400\n",
      "building tree 983 of 1400\n",
      "building tree 984 of 1400\n",
      "building tree 985 of 1400\n",
      "building tree 986 of 1400\n",
      "building tree 987 of 1400\n",
      "building tree 988 of 1400\n",
      "building tree 989 of 1400\n",
      "building tree 990 of 1400\n",
      "building tree 991 of 1400\n",
      "building tree 992 of 1400\n",
      "building tree 993 of 1400\n",
      "building tree 994 of 1400\n",
      "building tree 995 of 1400\n",
      "building tree 996 of 1400\n",
      "building tree 997 of 1400\n",
      "building tree 998 of 1400\n",
      "building tree 999 of 1400\n",
      "building tree 1000 of 1400\n",
      "building tree 1001 of 1400\n",
      "building tree 1002 of 1400\n",
      "building tree 1003 of 1400\n",
      "building tree 1004 of 1400\n",
      "building tree 1005 of 1400\n",
      "building tree 1006 of 1400\n",
      "building tree 1007 of 1400\n",
      "building tree 1008 of 1400\n",
      "building tree 1009 of 1400\n",
      "building tree 1010 of 1400\n",
      "building tree 1011 of 1400\n",
      "building tree 1012 of 1400\n",
      "building tree 1013 of 1400\n",
      "building tree 1014 of 1400\n",
      "building tree 1015 of 1400\n",
      "building tree 1016 of 1400\n",
      "building tree 1017 of 1400\n",
      "building tree 1018 of 1400\n",
      "building tree 1019 of 1400\n",
      "building tree 1020 of 1400\n",
      "building tree 1021 of 1400\n",
      "building tree 1022 of 1400\n",
      "building tree 1023 of 1400\n",
      "building tree 1024 of 1400\n",
      "building tree 1025 of 1400\n",
      "building tree 1026 of 1400\n",
      "building tree 1027 of 1400\n",
      "building tree 1028 of 1400\n",
      "building tree 1029 of 1400\n",
      "building tree 1030 of 1400\n",
      "building tree 1031 of 1400\n",
      "building tree 1032 of 1400\n",
      "building tree 1033 of 1400\n",
      "building tree 1034 of 1400\n",
      "building tree 1035 of 1400\n",
      "building tree 1036 of 1400\n",
      "building tree 1037 of 1400\n",
      "building tree 1038 of 1400\n",
      "building tree 1039 of 1400\n",
      "building tree 1040 of 1400\n",
      "building tree 1041 of 1400\n",
      "building tree 1042 of 1400\n",
      "building tree 1043 of 1400\n",
      "building tree 1044 of 1400\n",
      "building tree 1045 of 1400\n",
      "building tree 1046 of 1400\n",
      "building tree 1047 of 1400\n",
      "building tree 1048 of 1400\n",
      "building tree 1049 of 1400\n",
      "building tree 1050 of 1400\n",
      "building tree 1051 of 1400\n",
      "building tree 1052 of 1400\n",
      "building tree 1053 of 1400\n",
      "building tree 1054 of 1400\n",
      "building tree 1055 of 1400\n",
      "building tree 1056 of 1400\n",
      "building tree 1057 of 1400\n",
      "building tree 1058 of 1400\n",
      "building tree 1059 of 1400\n",
      "building tree 1060 of 1400\n",
      "building tree 1061 of 1400\n",
      "building tree 1062 of 1400\n",
      "building tree 1063 of 1400\n",
      "building tree 1064 of 1400\n",
      "building tree 1065 of 1400\n",
      "building tree 1066 of 1400\n",
      "building tree 1067 of 1400\n",
      "building tree 1068 of 1400\n",
      "building tree 1069 of 1400\n",
      "building tree 1070 of 1400\n",
      "building tree 1071 of 1400\n",
      "building tree 1072 of 1400\n",
      "building tree 1073 of 1400\n",
      "building tree 1074 of 1400\n",
      "building tree 1075 of 1400\n",
      "building tree 1076 of 1400\n",
      "building tree 1077 of 1400\n",
      "building tree 1078 of 1400\n",
      "building tree 1079 of 1400\n",
      "building tree 1080 of 1400\n",
      "building tree 1081 of 1400\n",
      "building tree 1082 of 1400\n",
      "building tree 1083 of 1400\n",
      "building tree 1084 of 1400\n",
      "building tree 1085 of 1400\n",
      "building tree 1086 of 1400\n",
      "building tree 1087 of 1400\n",
      "building tree 1088 of 1400\n",
      "building tree 1089 of 1400\n",
      "building tree 1090 of 1400\n",
      "building tree 1091 of 1400\n",
      "building tree 1092 of 1400\n",
      "building tree 1093 of 1400\n",
      "building tree 1094 of 1400\n",
      "building tree 1095 of 1400\n",
      "building tree 1096 of 1400\n",
      "building tree 1097 of 1400\n",
      "building tree 1098 of 1400\n",
      "building tree 1099 of 1400\n",
      "building tree 1100 of 1400\n",
      "building tree 1101 of 1400\n",
      "building tree 1102 of 1400\n",
      "building tree 1103 of 1400\n",
      "building tree 1104 of 1400\n",
      "building tree 1105 of 1400\n",
      "building tree 1106 of 1400\n",
      "building tree 1107 of 1400\n",
      "building tree 1108 of 1400\n",
      "building tree 1109 of 1400\n",
      "building tree 1110 of 1400\n",
      "building tree 1111 of 1400\n",
      "building tree 1112 of 1400\n",
      "building tree 1113 of 1400\n",
      "building tree 1114 of 1400\n",
      "building tree 1115 of 1400\n",
      "building tree 1116 of 1400\n",
      "building tree 1117 of 1400\n",
      "building tree 1118 of 1400\n",
      "building tree 1119 of 1400\n",
      "building tree 1120 of 1400\n",
      "building tree 1121 of 1400\n",
      "building tree 1122 of 1400\n",
      "building tree 1123 of 1400\n",
      "building tree 1124 of 1400\n",
      "building tree 1125 of 1400\n",
      "building tree 1126 of 1400\n",
      "building tree 1127 of 1400\n",
      "building tree 1128 of 1400\n",
      "building tree 1129 of 1400\n",
      "building tree 1130 of 1400\n",
      "building tree 1131 of 1400\n",
      "building tree 1132 of 1400\n",
      "building tree 1133 of 1400\n",
      "building tree 1134 of 1400\n",
      "building tree 1135 of 1400\n",
      "building tree 1136 of 1400\n",
      "building tree 1137 of 1400\n",
      "building tree 1138 of 1400\n",
      "building tree 1139 of 1400\n",
      "building tree 1140 of 1400\n",
      "building tree 1141 of 1400\n",
      "building tree 1142 of 1400\n",
      "building tree 1143 of 1400\n",
      "building tree 1144 of 1400\n",
      "building tree 1145 of 1400\n",
      "building tree 1146 of 1400\n",
      "building tree 1147 of 1400\n",
      "building tree 1148 of 1400\n",
      "building tree 1149 of 1400\n",
      "building tree 1150 of 1400\n",
      "building tree 1151 of 1400\n",
      "building tree 1152 of 1400\n",
      "building tree 1153 of 1400\n",
      "building tree 1154 of 1400\n",
      "building tree 1155 of 1400\n",
      "building tree 1156 of 1400\n",
      "building tree 1157 of 1400\n",
      "building tree 1158 of 1400\n",
      "building tree 1159 of 1400\n",
      "building tree 1160 of 1400\n",
      "building tree 1161 of 1400\n",
      "building tree 1162 of 1400\n",
      "building tree 1163 of 1400\n",
      "building tree 1164 of 1400\n",
      "building tree 1165 of 1400\n",
      "building tree 1166 of 1400\n",
      "building tree 1167 of 1400\n",
      "building tree 1168 of 1400\n",
      "building tree 1169 of 1400\n",
      "building tree 1170 of 1400\n",
      "building tree 1171 of 1400\n",
      "building tree 1172 of 1400\n",
      "building tree 1173 of 1400\n",
      "building tree 1174 of 1400\n",
      "building tree 1175 of 1400\n",
      "building tree 1176 of 1400\n",
      "building tree 1177 of 1400\n",
      "building tree 1178 of 1400\n",
      "building tree 1179 of 1400\n",
      "building tree 1180 of 1400\n",
      "building tree 1181 of 1400\n",
      "building tree 1182 of 1400\n",
      "building tree 1183 of 1400\n",
      "building tree 1184 of 1400\n",
      "building tree 1185 of 1400\n",
      "building tree 1186 of 1400\n",
      "building tree 1187 of 1400\n",
      "building tree 1188 of 1400\n",
      "building tree 1189 of 1400\n",
      "building tree 1190 of 1400\n",
      "building tree 1191 of 1400\n",
      "building tree 1192 of 1400\n",
      "building tree 1193 of 1400\n",
      "building tree 1194 of 1400\n",
      "building tree 1195 of 1400\n",
      "building tree 1196 of 1400\n",
      "building tree 1197 of 1400\n",
      "building tree 1198 of 1400\n",
      "building tree 1199 of 1400\n",
      "building tree 1200 of 1400\n",
      "building tree 1201 of 1400\n",
      "building tree 1202 of 1400\n",
      "building tree 1203 of 1400\n",
      "building tree 1204 of 1400\n",
      "building tree 1205 of 1400\n",
      "building tree 1206 of 1400\n",
      "building tree 1207 of 1400\n",
      "building tree 1208 of 1400\n",
      "building tree 1209 of 1400\n",
      "building tree 1210 of 1400\n",
      "building tree 1211 of 1400\n",
      "building tree 1212 of 1400\n",
      "building tree 1213 of 1400\n",
      "building tree 1214 of 1400\n",
      "building tree 1215 of 1400\n",
      "building tree 1216 of 1400\n",
      "building tree 1217 of 1400\n",
      "building tree 1218 of 1400\n",
      "building tree 1219 of 1400\n",
      "building tree 1220 of 1400\n",
      "building tree 1221 of 1400\n",
      "building tree 1222 of 1400\n",
      "building tree 1223 of 1400\n",
      "building tree 1224 of 1400\n",
      "building tree 1225 of 1400\n",
      "building tree 1226 of 1400\n",
      "building tree 1227 of 1400\n",
      "building tree 1228 of 1400\n",
      "building tree 1229 of 1400\n",
      "building tree 1230 of 1400\n",
      "building tree 1231 of 1400\n",
      "building tree 1232 of 1400\n",
      "building tree 1233 of 1400\n",
      "building tree 1234 of 1400\n",
      "building tree 1235 of 1400\n",
      "building tree 1236 of 1400\n",
      "building tree 1237 of 1400\n",
      "building tree 1238 of 1400\n",
      "building tree 1239 of 1400\n",
      "building tree 1240 of 1400\n",
      "building tree 1241 of 1400\n",
      "building tree 1242 of 1400\n",
      "building tree 1243 of 1400\n",
      "building tree 1244 of 1400\n",
      "building tree 1245 of 1400\n",
      "building tree 1246 of 1400\n",
      "building tree 1247 of 1400\n",
      "building tree 1248 of 1400\n",
      "building tree 1249 of 1400\n",
      "building tree 1250 of 1400\n",
      "building tree 1251 of 1400\n",
      "building tree 1252 of 1400\n",
      "building tree 1253 of 1400\n",
      "building tree 1254 of 1400\n",
      "building tree 1255 of 1400\n",
      "building tree 1256 of 1400\n",
      "building tree 1257 of 1400\n",
      "building tree 1258 of 1400\n",
      "building tree 1259 of 1400\n",
      "building tree 1260 of 1400\n",
      "building tree 1261 of 1400\n",
      "building tree 1262 of 1400\n",
      "building tree 1263 of 1400\n",
      "building tree 1264 of 1400\n",
      "building tree 1265 of 1400\n",
      "building tree 1266 of 1400\n",
      "building tree 1267 of 1400\n",
      "building tree 1268 of 1400\n",
      "building tree 1269 of 1400\n",
      "building tree 1270 of 1400\n",
      "building tree 1271 of 1400\n",
      "building tree 1272 of 1400\n",
      "building tree 1273 of 1400\n",
      "building tree 1274 of 1400\n",
      "building tree 1275 of 1400\n",
      "building tree 1276 of 1400\n",
      "building tree 1277 of 1400\n",
      "building tree 1278 of 1400\n",
      "building tree 1279 of 1400\n",
      "building tree 1280 of 1400\n",
      "building tree 1281 of 1400\n",
      "building tree 1282 of 1400\n",
      "building tree 1283 of 1400\n",
      "building tree 1284 of 1400\n",
      "building tree 1285 of 1400\n",
      "building tree 1286 of 1400\n",
      "building tree 1287 of 1400\n",
      "building tree 1288 of 1400\n",
      "building tree 1289 of 1400\n",
      "building tree 1290 of 1400\n",
      "building tree 1291 of 1400\n",
      "building tree 1292 of 1400\n",
      "building tree 1293 of 1400\n",
      "building tree 1294 of 1400\n",
      "building tree 1295 of 1400\n",
      "building tree 1296 of 1400\n",
      "building tree 1297 of 1400\n",
      "building tree 1298 of 1400\n",
      "building tree 1299 of 1400\n",
      "building tree 1300 of 1400\n",
      "building tree 1301 of 1400\n",
      "building tree 1302 of 1400\n",
      "building tree 1303 of 1400\n",
      "building tree 1304 of 1400\n",
      "building tree 1305 of 1400\n",
      "building tree 1306 of 1400\n",
      "building tree 1307 of 1400\n",
      "building tree 1308 of 1400\n",
      "building tree 1309 of 1400\n",
      "building tree 1310 of 1400\n",
      "building tree 1311 of 1400\n",
      "building tree 1312 of 1400\n",
      "building tree 1313 of 1400\n",
      "building tree 1314 of 1400\n",
      "building tree 1315 of 1400\n",
      "building tree 1316 of 1400\n",
      "building tree 1317 of 1400\n",
      "building tree 1318 of 1400\n",
      "building tree 1319 of 1400\n",
      "building tree 1320 of 1400\n",
      "building tree 1321 of 1400\n",
      "building tree 1322 of 1400\n",
      "building tree 1323 of 1400\n",
      "building tree 1324 of 1400\n",
      "building tree 1325 of 1400\n",
      "building tree 1326 of 1400\n",
      "building tree 1327 of 1400\n",
      "building tree 1328 of 1400\n",
      "building tree 1329 of 1400\n",
      "building tree 1330 of 1400\n",
      "building tree 1331 of 1400\n",
      "building tree 1332 of 1400\n",
      "building tree 1333 of 1400\n",
      "building tree 1334 of 1400\n",
      "building tree 1335 of 1400\n",
      "building tree 1336 of 1400\n",
      "building tree 1337 of 1400\n",
      "building tree 1338 of 1400\n",
      "building tree 1339 of 1400\n",
      "building tree 1340 of 1400\n",
      "building tree 1341 of 1400\n",
      "building tree 1342 of 1400\n",
      "building tree 1343 of 1400\n",
      "building tree 1344 of 1400\n",
      "building tree 1345 of 1400\n",
      "building tree 1346 of 1400\n",
      "building tree 1347 of 1400\n",
      "building tree 1348 of 1400\n",
      "building tree 1349 of 1400\n",
      "building tree 1350 of 1400\n",
      "building tree 1351 of 1400\n",
      "building tree 1352 of 1400\n",
      "building tree 1353 of 1400\n",
      "building tree 1354 of 1400\n",
      "building tree 1355 of 1400\n",
      "building tree 1356 of 1400\n",
      "building tree 1357 of 1400\n",
      "building tree 1358 of 1400\n",
      "building tree 1359 of 1400\n",
      "building tree 1360 of 1400\n",
      "building tree 1361 of 1400\n",
      "building tree 1362 of 1400\n",
      "building tree 1363 of 1400\n",
      "building tree 1364 of 1400\n",
      "building tree 1365 of 1400\n",
      "building tree 1366 of 1400\n",
      "building tree 1367 of 1400\n",
      "building tree 1368 of 1400\n",
      "building tree 1369 of 1400\n",
      "building tree 1370 of 1400\n",
      "building tree 1371 of 1400\n",
      "building tree 1372 of 1400\n",
      "building tree 1373 of 1400\n",
      "building tree 1374 of 1400\n",
      "building tree 1375 of 1400\n",
      "building tree 1376 of 1400\n",
      "building tree 1377 of 1400\n",
      "building tree 1378 of 1400\n",
      "building tree 1379 of 1400\n",
      "building tree 1380 of 1400\n",
      "building tree 1381 of 1400\n",
      "building tree 1382 of 1400\n",
      "building tree 1383 of 1400\n",
      "building tree 1384 of 1400\n",
      "building tree 1385 of 1400\n",
      "building tree 1386 of 1400\n",
      "building tree 1387 of 1400\n",
      "building tree 1388 of 1400\n",
      "building tree 1389 of 1400\n",
      "building tree 1390 of 1400\n",
      "building tree 1391 of 1400\n",
      "building tree 1392 of 1400\n",
      "building tree 1393 of 1400\n",
      "building tree 1394 of 1400\n",
      "building tree 1395 of 1400\n",
      "building tree 1396 of 1400\n",
      "building tree 1397 of 1400\n",
      "building tree 1398 of 1400\n",
      "building tree 1399 of 1400\n",
      "building tree 1400 of 1400\n"
     ]
    },
    {
     "name": "stderr",
     "output_type": "stream",
     "text": [
      "[Parallel(n_jobs=1)]: Done 1400 out of 1400 | elapsed:  1.3min finished\n"
     ]
    },
    {
     "data": {
      "text/plain": [
       "RandomForestClassifier(max_depth=30, max_features='sqrt', min_samples_split=5,\n",
       "                       n_estimators=1400, verbose=10)"
      ]
     },
     "execution_count": 46,
     "metadata": {},
     "output_type": "execute_result"
    }
   ],
   "source": [
    "rf.fit(train_X,train_Y.astype('int'))"
   ]
  },
  {
   "cell_type": "code",
   "execution_count": 47,
   "metadata": {},
   "outputs": [
    {
     "name": "stderr",
     "output_type": "stream",
     "text": [
      "[Parallel(n_jobs=1)]: Using backend SequentialBackend with 1 concurrent workers.\n",
      "[Parallel(n_jobs=1)]: Done   1 out of   1 | elapsed:    0.0s remaining:    0.0s\n",
      "[Parallel(n_jobs=1)]: Done   2 out of   2 | elapsed:    0.0s remaining:    0.0s\n",
      "[Parallel(n_jobs=1)]: Done   3 out of   3 | elapsed:    0.0s remaining:    0.0s\n",
      "[Parallel(n_jobs=1)]: Done   4 out of   4 | elapsed:    0.0s remaining:    0.0s\n",
      "[Parallel(n_jobs=1)]: Done   5 out of   5 | elapsed:    0.0s remaining:    0.0s\n",
      "[Parallel(n_jobs=1)]: Done   6 out of   6 | elapsed:    0.0s remaining:    0.0s\n",
      "[Parallel(n_jobs=1)]: Done   7 out of   7 | elapsed:    0.0s remaining:    0.0s\n",
      "[Parallel(n_jobs=1)]: Done   8 out of   8 | elapsed:    0.0s remaining:    0.0s\n",
      "[Parallel(n_jobs=1)]: Done   9 out of   9 | elapsed:    0.0s remaining:    0.0s\n",
      "[Parallel(n_jobs=1)]: Done 1400 out of 1400 | elapsed:    1.1s finished\n",
      "[Parallel(n_jobs=1)]: Using backend SequentialBackend with 1 concurrent workers.\n",
      "[Parallel(n_jobs=1)]: Done   1 out of   1 | elapsed:    0.0s remaining:    0.0s\n",
      "[Parallel(n_jobs=1)]: Done   2 out of   2 | elapsed:    0.0s remaining:    0.0s\n",
      "[Parallel(n_jobs=1)]: Done   3 out of   3 | elapsed:    0.0s remaining:    0.0s\n",
      "[Parallel(n_jobs=1)]: Done   4 out of   4 | elapsed:    0.0s remaining:    0.0s\n",
      "[Parallel(n_jobs=1)]: Done   5 out of   5 | elapsed:    0.0s remaining:    0.0s\n",
      "[Parallel(n_jobs=1)]: Done   6 out of   6 | elapsed:    0.0s remaining:    0.0s\n",
      "[Parallel(n_jobs=1)]: Done   7 out of   7 | elapsed:    0.0s remaining:    0.0s\n",
      "[Parallel(n_jobs=1)]: Done   8 out of   8 | elapsed:    0.0s remaining:    0.0s\n",
      "[Parallel(n_jobs=1)]: Done   9 out of   9 | elapsed:    0.0s remaining:    0.0s\n",
      "[Parallel(n_jobs=1)]: Done 1400 out of 1400 | elapsed:    1.1s finished\n"
     ]
    }
   ],
   "source": [
    "stacking_predictions = np.array(rf.predict_proba(test_X))[:,:,1].T\n",
    "stacking_predictions_tta = np.array(rf.predict_proba(test_X_tta))[:,:,1].T"
   ]
  },
  {
   "cell_type": "code",
   "execution_count": 41,
   "metadata": {
    "colab": {},
    "colab_type": "code",
    "id": "PpT0rHC1ZNv5"
   },
   "outputs": [
    {
     "data": {
      "text/plain": [
       "(202, 14)"
      ]
     },
     "execution_count": 41,
     "metadata": {},
     "output_type": "execute_result"
    }
   ],
   "source": [
    "stacking_predictions.shape"
   ]
  },
  {
   "cell_type": "markdown",
   "metadata": {
    "colab_type": "text",
    "id": "I6Yj9JZxaiAc"
   },
   "source": [
    "STACKING RESULTS"
   ]
  },
  {
   "cell_type": "code",
   "execution_count": 48,
   "metadata": {
    "colab": {
     "base_uri": "https://localhost:8080/",
     "height": 634
    },
    "colab_type": "code",
    "id": "qIaEaKSbfnvR",
    "outputId": "d855b3ca-00bb-44c9-c035-cb4e739b6719"
   },
   "outputs": [
    {
     "name": "stderr",
     "output_type": "stream",
     "text": [
      "No handles with labels found to put in legend.\n",
      "/usr/local/lib/python3.6/dist-packages/numpy/core/fromnumeric.py:3335: RuntimeWarning: Mean of empty slice.\n",
      "  out=out, **kwargs)\n",
      "/usr/local/lib/python3.6/dist-packages/numpy/core/_methods.py:161: RuntimeWarning: invalid value encountered in double_scalars\n",
      "  ret = ret.dtype.type(ret / rcount)\n",
      "No handles with labels found to put in legend.\n",
      "/usr/local/lib/python3.6/dist-packages/sklearn/metrics/_ranking.py:813: UndefinedMetricWarning: No positive samples in y_true, true positive value should be meaningless\n",
      "  UndefinedMetricWarning)\n",
      "No handles with labels found to put in legend.\n",
      "/usr/local/lib/python3.6/dist-packages/numpy/core/fromnumeric.py:3335: RuntimeWarning: Mean of empty slice.\n",
      "  out=out, **kwargs)\n",
      "/usr/local/lib/python3.6/dist-packages/numpy/core/_methods.py:161: RuntimeWarning: invalid value encountered in double_scalars\n",
      "  ret = ret.dtype.type(ret / rcount)\n",
      "No handles with labels found to put in legend.\n",
      "/usr/local/lib/python3.6/dist-packages/sklearn/metrics/_ranking.py:813: UndefinedMetricWarning: No positive samples in y_true, true positive value should be meaningless\n",
      "  UndefinedMetricWarning)\n"
     ]
    },
    {
     "data": {
      "image/png": "[encoded data removed]",
      "text/plain": [
       "<Figure size 504x504 with 1 Axes>"
      ]
     },
     "metadata": {
      "needs_background": "light"
     },
     "output_type": "display_data"
    },
    {
     "data": {
      "image/png": "[encoded data removed]",
      "text/plain": [
       "<Figure size 504x504 with 1 Axes>"
      ]
     },
     "metadata": {
      "needs_background": "light"
     },
     "output_type": "display_data"
    }
   ],
   "source": [
    "from sklearn.metrics import roc_curve, auc\n",
    "import matplotlib.pyplot as plt\n",
    "def plot_stacking(predictions):\n",
    "    dummy_labels = ['No Finding', 'Enlarged Cardiomediastinum', 'Cardiomegaly', 'Lung Opacity', 'Lung Lesion', 'Edema', 'Consolidation', 'Pneumonia', 'Atelectasis',\n",
    "                    'Pneumothorax', 'Pleural Effusion', 'Pleural Other', 'Fracture', 'Support Devices']\n",
    "\n",
    "    target_labels = ['Cardiomegaly','Edema','Consolidation','Atelectasis','Pleural Effusion']\n",
    "\n",
    "    fig, ax = plt.subplots(1,1, figsize = (7, 7))\n",
    "    j = 1\n",
    "    results = pd.DataFrame()\n",
    "    aurocs = []\n",
    "    for (i, label) in enumerate(dummy_labels):\n",
    "      fpr, tpr, thresholds = roc_curve(test_Y[:,i].astype(int), predictions[:,i])\n",
    "      if (label in target_labels):\n",
    "        #ax = fig.add_subplot(2,3,j)\n",
    "        score = auc(fpr, tpr)\n",
    "        ax.plot(fpr, tpr, label = '%s (AUC:%0.2f)'  % (label, score))\n",
    "        aurocs.append(score)\n",
    "        results = results.append({'Label': label, 'Score':score},ignore_index = True)\n",
    "      ax.legend()\n",
    "      ax.set_xlabel('False Positive Rate')\n",
    "      ax.set_ylabel('True Positive Rate')\n",
    "      ax.set_title('AUROC: {:0.4f}'.format(np.mean(aurocs)))\n",
    "    return results\n",
    "plot_stacking(stacking_predictions).to_csv('results/stacking.csv')\n",
    "plot_stacking(stacking_predictions_tta).to_csv('results/stacking_tta.csv')\n"
   ]
  },
  {
   "cell_type": "markdown",
   "metadata": {
    "colab_type": "text",
    "id": "WinrlyHRnFWL"
   },
   "source": [
    "# Embedding"
   ]
  },
  {
   "cell_type": "code",
   "execution_count": null,
   "metadata": {
    "colab": {},
    "colab_type": "code",
    "id": "IY_bS5FZnHb0"
   },
   "outputs": [],
   "source": [
    "from tensorflow.keras.models import load_model\n",
    "model = load_model('/content/drive/My Drive/Models/densenet169_model.hdf5')"
   ]
  },
  {
   "cell_type": "code",
   "execution_count": null,
   "metadata": {
    "colab": {},
    "colab_type": "code",
    "id": "h3io-o44nRqO"
   },
   "outputs": [],
   "source": [
    "from tensorflow.keras.layers import GlobalAveragePooling2D\n",
    "from tensorflow.keras.models import Model\n",
    "\n",
    "x = model.get_layer('global_average_pooling2d').output \n",
    "embedding_model = Model(inputs=model.input, outputs=x)"
   ]
  },
  {
   "cell_type": "code",
   "execution_count": null,
   "metadata": {
    "colab": {},
    "colab_type": "code",
    "id": "ShmzKaK3nqdb"
   },
   "outputs": [],
   "source": [
    "def build_embedding_dataset(model,dataset):\n",
    "  X = model.predict(dataset)\n",
    "  \n",
    "  unbatched_dataset = dataset.unbatch()\n",
    "  Y = []\n",
    "  for _,labels in unbatched_dataset:\n",
    "    Y.append(labels.numpy())\n",
    "  Y = np.array(Y).astype('int')  \n",
    "  \n",
    "  return X,Y"
   ]
  },
  {
   "cell_type": "code",
   "execution_count": null,
   "metadata": {
    "colab": {},
    "colab_type": "code",
    "id": "34M_QGMfn_hB"
   },
   "outputs": [],
   "source": [
    "val_X, val_Y = build_embedding_dataset(embedding_model,test_dataset)"
   ]
  },
  {
   "cell_type": "code",
   "execution_count": null,
   "metadata": {
    "colab": {},
    "colab_type": "code",
    "id": "rGMXwCfCSTUc"
   },
   "outputs": [],
   "source": [
    "import pandas as pd \n",
    "path = '/content/drive/My Drive/Embedding/DenseNet121/validation_densenet121.csv'\n",
    "df = pd.read_csv(path)"
   ]
  },
  {
   "cell_type": "code",
   "execution_count": null,
   "metadata": {
    "colab": {},
    "colab_type": "code",
    "id": "FaalXZ6lXi04"
   },
   "outputs": [],
   "source": [
    "val_X, val_Y = build_dataset(df)"
   ]
  },
  {
   "cell_type": "code",
   "execution_count": null,
   "metadata": {
    "colab": {},
    "colab_type": "code",
    "id": "AWAuwkXVoE5e"
   },
   "outputs": [],
   "source": [
    "from sklearn.model_selection import RandomizedSearchCV\n",
    "from sklearn.ensemble import RandomForestClassifier\n",
    "from sklearn.model_selection import GridSearchCV\n",
    "\n",
    "\n",
    "n_estimators = [200,500,1000]\n",
    "max_depth = [5, 15, 30]\n",
    "min_samples_split = [2, 10, 50]\n",
    "min_samples_leaf = [1, 5, 10] \n",
    "bootstrap = ['True','False']\n",
    "max_features = ['sqrt','auto']\n",
    "\n",
    "\n",
    "random_grid = {'n_estimators': n_estimators,\n",
    "               'max_features': max_features,\n",
    "               'max_depth': max_depth,\n",
    "               'min_samples_split': min_samples_split,\n",
    "               'min_samples_leaf': min_samples_leaf,\n",
    "               'bootstrap': bootstrap}\n",
    "\n",
    "\n",
    "rf = RandomForestClassifier(verbose=10,random_state=42)\n",
    "\n",
    "rf_random = RandomizedSearchCV(estimator = rf,n_iter = 100,\n",
    "                               scoring='roc_auc', param_distributions= random_grid,\n",
    "                               cv = 2,  n_jobs = -1,verbose=50)\n",
    "rf_random.fit(val_X, val_Y.astype('int'))"
   ]
  },
  {
   "cell_type": "code",
   "execution_count": null,
   "metadata": {
    "colab": {
     "base_uri": "https://localhost:8080/",
     "height": 119
    },
    "colab_type": "code",
    "id": "tGdqU5dUouoL",
    "outputId": "43b62ef9-7c48-46b6-aafb-6987d9ccde61"
   },
   "outputs": [],
   "source": [
    "rf_random.best_params_"
   ]
  },
  {
   "cell_type": "code",
   "execution_count": null,
   "metadata": {
    "colab": {},
    "colab_type": "code",
    "id": "pX9pb76K74rW"
   },
   "outputs": [],
   "source": [
    "from sklearn.ensemble import RandomForestClassifier\n",
    "\n",
    "rfc = RandomForestClassifier(n_jobs=-1,verbose = 10 ,\n",
    "                             bootstrap= True,max_depth = 30,\n",
    "                             max_features= 'sqrt',\n",
    "                             min_samples_leaf= 1,min_samples_split= 10,n_estimators= 200)\n"
   ]
  },
  {
   "cell_type": "code",
   "execution_count": null,
   "metadata": {
    "colab": {},
    "colab_type": "code",
    "id": "IF53QIx4_ewK"
   },
   "outputs": [],
   "source": [
    "rfc.fit(train_X,train_Y.astype(int))"
   ]
  },
  {
   "cell_type": "code",
   "execution_count": null,
   "metadata": {
    "colab": {},
    "colab_type": "code",
    "id": "yCKWnn78_mUc"
   },
   "outputs": [],
   "source": [
    "test_X, test_Y = build_embedding_dataset(embedding_model,test_dataset)"
   ]
  },
  {
   "cell_type": "code",
   "execution_count": null,
   "metadata": {
    "colab": {},
    "colab_type": "code",
    "id": "S9q-5r3QCJ1-"
   },
   "outputs": [],
   "source": [
    "predictions = rfc.predict_proba(test_X)\n",
    "predictions = np.array(predictions)[:,:,1].T"
   ]
  },
  {
   "cell_type": "markdown",
   "metadata": {
    "colab_type": "text",
    "id": "oQK24OA0tMNI"
   },
   "source": [
    "# Embedding Ensemble"
   ]
  },
  {
   "cell_type": "code",
   "execution_count": null,
   "metadata": {
    "colab": {},
    "colab_type": "code",
    "id": "TRmbXlLkXTo-"
   },
   "outputs": [],
   "source": [
    "def parse(x):\n",
    "  return np.array(x.strip('][').split(', '),dtype=np.float32)\n",
    "  \n",
    "def build_dataset(df):\n",
    "  df['Embedding'] = df['Embedding'].apply(lambda x: parse(x))\n",
    "  values = df['Embedding'].values\n",
    "  X = np.array([el for el in values])\n",
    "  Y = df[df.columns[1:-1]].values\n",
    "  return X, Y "
   ]
  },
  {
   "cell_type": "code",
   "execution_count": null,
   "metadata": {
    "colab": {},
    "colab_type": "code",
    "id": "5ByMLArI_hcf"
   },
   "outputs": [],
   "source": [
    "import os\n",
    "model_name = ['DenseNet121','DenseNet169','DenseNet201',\n",
    "              'VGG16','VGG19','Xception','InceptionResNetV2']\n",
    "embedding_base_path = 'EmbeddingTrained'\n",
    "model_base_path = '/content/drive/My Drive/Embedding'"
   ]
  },
  {
   "cell_type": "markdown",
   "metadata": {
    "colab_type": "text",
    "id": "EQLDI_pb-8KX"
   },
   "source": [
    "Link alla cartella contenente i modelli trainati: https://drive.google.com/open?id=1FghuuMDHhpNIoEmYlUxMiAngowN3Emke"
   ]
  },
  {
   "cell_type": "code",
   "execution_count": null,
   "metadata": {
    "colab": {
     "base_uri": "https://localhost:8080/",
     "height": 1000
    },
    "colab_type": "code",
    "id": "p_qs6UNR-v5C",
    "outputId": "3e1bf6a0-e26e-4235-fd8e-1d47c74e6aeb"
   },
   "outputs": [],
   "source": [
    "from joblib import dump, load\n",
    "import pandas as pd\n",
    "\n",
    "def compute_conditional_predictions(predictions):\n",
    "  predictions[:,5] = predictions[:,3] * predictions[:,5]\n",
    "  predictions[:,6] = predictions[:,3] * predictions[:,6]\n",
    "  predictions[:,7] = predictions[:,3] * predictions[:,7]\n",
    "  predictions[:,4] = predictions[:,3] * predictions[:,4]\n",
    "  predictions[:,8] = predictions[:,3] * predictions[:,8]\n",
    "  predictions[:,2] = predictions[:,1] * predictions[:,2]\n",
    "\n",
    "\n",
    "predictions = []\n",
    "for name in model_name:\n",
    "    ##LOAD THE MODEL\n",
    "    filename = 'embedding_rf_{}.joblib'.format(name.lower())\n",
    "    model = load(os.path.join(embedding_base_path,filename))\n",
    "    ##LOAD THE DATA\n",
    "    dataset_name = 'test_{}.csv'.format(name.lower())\n",
    "\n",
    "    dataset = pd.read_csv(os.path.join(model_base_path,name,dataset_name))\n",
    "    test_X, _ = build_dataset(dataset)\n",
    "    model_pred = model.predict_proba(test_X)\n",
    "    model_pred = np.array(model_pred)[:,:,1].T\n",
    "    compute_conditional_predictions(model_pred)\n",
    "    predictions.append(model_pred)\n",
    "\n",
    "final_predictions = np.array(predictions)"
   ]
  },
  {
   "cell_type": "code",
   "execution_count": null,
   "metadata": {
    "colab": {},
    "colab_type": "code",
    "id": "1kyf7Z0qID7s"
   },
   "outputs": [],
   "source": [
    "unbatched_test = test_dataset.unbatch()\n",
    "test_Y = []\n",
    "for img, labels in unbatched_test:\n",
    "  test_Y.append(labels.numpy())\n",
    "test_Y = np.array(test_Y)"
   ]
  },
  {
   "cell_type": "markdown",
   "metadata": {
    "colab_type": "text",
    "id": "QVgglf2nVS1O"
   },
   "source": [
    "**Ensemble of the 8 Random Forest**"
   ]
  },
  {
   "cell_type": "code",
   "execution_count": null,
   "metadata": {
    "colab": {
     "base_uri": "https://localhost:8080/",
     "height": 614
    },
    "colab_type": "code",
    "id": "F87XiCN51MXF",
    "outputId": "98cc82d1-aaa6-4010-a007-63545183232a"
   },
   "outputs": [],
   "source": [
    "plot_result(test_Y,np.average(final_predictions,axis=0))"
   ]
  },
  {
   "cell_type": "markdown",
   "metadata": {
    "colab_type": "text",
    "id": "0cbDYjxS42Zr"
   },
   "source": [
    "# Conditional Training"
   ]
  },
  {
   "cell_type": "code",
   "execution_count": null,
   "metadata": {
    "colab": {},
    "colab_type": "code",
    "id": "kbgOjg6QiaLu"
   },
   "outputs": [],
   "source": [
    "def record_parser(example):\n",
    "    example_fmt = {\n",
    "        'label': tf.io.FixedLenFeature([14], tf.float32),\n",
    "        'image': tf.io.FixedLenFeature([],tf.string, default_value='')}\n",
    "    parsed = tf.io.parse_single_example(example, example_fmt)\n",
    "    image = tf.io.decode_png(parsed[\"image\"],channels=3)\n",
    "    image = tf.image.convert_image_dtype(image, tf.float32)\n",
    "    return image, parsed['label']\n",
    "\n",
    "def normalize_image(img,labels):\n",
    "    imagenet_mean = np.array([0.485, 0.456, 0.406])\n",
    "    imagenet_std = np.array([0.229, 0.224, 0.225])\n",
    "    img = (img - imagenet_mean) / imagenet_std\n",
    "    return img,labels\n",
    "\n",
    "def make_dataset(filename):\n",
    "  base_path = '/content/drive/My Drive/tfrecords'\n",
    "  full_path = os.path.join(base_path,filename)\n",
    "  dataset = tf.data.TFRecordDataset(full_path)\n",
    "  parsed_dataset = dataset.map(record_parser,num_parallel_calls = tf.data.experimental.AUTOTUNE)\n",
    "  parsed_dataset = parsed_dataset.map(normalize_image,num_parallel_calls = tf.data.experimental.AUTOTUNE)\n",
    "  return parsed_dataset\n",
    "\n",
    "batch_size = 64\n",
    "train_dataset = make_dataset('training_cropped.tfrecords').shuffle(buffer_size=128).batch(batch_size, drop_remainder=True).prefetch(1)\n",
    "val_dataset = make_dataset('validation_cropped.tfrecords').batch(batch_size, drop_remainder=True).prefetch(1)\n",
    "test_dataset = make_dataset('test_set_cropped.tfrecords').batch(batch_size, drop_remainder=False).prefetch(1)"
   ]
  },
  {
   "cell_type": "code",
   "execution_count": null,
   "metadata": {
    "colab": {},
    "colab_type": "code",
    "id": "pohWfsTErsdL"
   },
   "outputs": [],
   "source": [
    "from tensorflow.keras.applications.nasnet import NASNetMobile\n",
    "from tensorflow.keras.applications.inception_resnet_v2 import InceptionResNetV2\n",
    "from tensorflow.keras.applications.xception import Xception\n",
    "\n",
    "from tensorflow.keras.layers import GlobalAveragePooling2D, Dense, Activation, Lambda\n",
    "from tensorflow.keras.models import Model\n",
    "\n",
    "base_model = NASNetMobile(include_top=False,\n",
    "                             weights='imagenet',\n",
    "                             input_shape=(224, 224, 3))\n",
    "\n",
    "\n",
    "\n",
    "x = base_model.output\n",
    "x = GlobalAveragePooling2D()(x)\n",
    "predictions = Dense(14, activation='sigmoid')(x)\n",
    "model = Model(inputs=base_model.input, outputs=predictions)\n"
   ]
  },
  {
   "cell_type": "code",
   "execution_count": null,
   "metadata": {
    "colab": {},
    "colab_type": "code",
    "id": "SJ3IFmqOUWGd"
   },
   "outputs": [],
   "source": [
    "for layer in model.layers[:-1]:\n",
    "  layer.trainable = False"
   ]
  },
  {
   "cell_type": "code",
   "execution_count": null,
   "metadata": {
    "colab": {},
    "colab_type": "code",
    "id": "nH8dVEZ17R1U"
   },
   "outputs": [],
   "source": [
    "from tensorflow.keras.callbacks import ReduceLROnPlateau, EarlyStopping, ModelCheckpoint, LearningRateScheduler\n",
    "from tensorflow.keras.optimizers import Adam\n",
    "\n",
    "def step_decay(epoch):\n",
    "  initial_lr = 1e-4\n",
    "  drop = 0.1\n",
    "  return initial_lr * np.power(drop,epoch)\n",
    "\n",
    "outputFolder = '/content/drive/My Drive/ConditionalTraining/NASNetMobile/PreTrained'\n",
    "if not os.path.exists(outputFolder):\n",
    "    os.makedirs(outputFolder)\n",
    "filepath=outputFolder+\"/model-{epoch:02d}.hdf5\"\n",
    "\n",
    "lr_scheduler = LearningRateScheduler(step_decay)\n",
    "early_stopping = EarlyStopping(monitor='val_AUC',mode='max',patience=4)\n",
    "checkpoint_cb = ModelCheckpoint(filepath,save_best_only = False,save_weights_only = False,\n",
    "                               save_freq='epoch',verbose=False)\n",
    "\n",
    "\n",
    "opt = Adam(learning_rate=0.0001, beta_1=0.9, beta_2=0.999)\n",
    "callbacks = [lr_scheduler,checkpoint_cb]\n",
    "\n",
    "model.compile(loss='binary_crossentropy', optimizer=opt, metrics=['accuracy','AUC'])"
   ]
  },
  {
   "cell_type": "code",
   "execution_count": null,
   "metadata": {
    "colab": {},
    "colab_type": "code",
    "id": "3XgYqw8VDD9K"
   },
   "outputs": [],
   "source": [
    "%%time\n",
    "history = model.fit(train_dataset,\n",
    "          epochs=5,\n",
    "          validation_data=val_dataset,\n",
    "          callbacks=callbacks,\n",
    "          verbose=1,initial_epoch = 0)"
   ]
  },
  {
   "cell_type": "markdown",
   "metadata": {
    "colab_type": "text",
    "id": "oY0CrJdj_Ll4"
   },
   "source": [
    "Link alla cartella contenente i modelli trainati: https://drive.google.com/open?id=135mh_ET_e4eiupA-dgv_KaxOPd_RvyQ0"
   ]
  },
  {
   "cell_type": "code",
   "execution_count": null,
   "metadata": {
    "colab": {
     "base_uri": "https://localhost:8080/",
     "height": 71
    },
    "colab_type": "code",
    "id": "KrKNazs_gU9R",
    "outputId": "188d1ecc-02bb-41b7-93df-6e6249c4a8e5"
   },
   "outputs": [],
   "source": [
    "from tensorflow.keras.models import load_model\n",
    "\n",
    "model_names = ['DenseNet121','DenseNet169','DenseNet201','VGG16','VGG19','Xception','InceptionResNetV2']\n",
    "\n",
    "models = []\n",
    "for el in model_names:\n",
    "  mod = load_model('ConditionalTraining/{}/FineTuning/model-05.hdf5'.format(el))\n",
    "  models.append(mod)"
   ]
  },
  {
   "cell_type": "code",
   "execution_count": null,
   "metadata": {
    "colab": {},
    "colab_type": "code",
    "id": "kF71k-c-jRsI"
   },
   "outputs": [],
   "source": []
  },
  {
   "cell_type": "code",
   "execution_count": null,
   "metadata": {
    "colab": {},
    "colab_type": "code",
    "id": "UAHzxPa_jp_T"
   },
   "outputs": [],
   "source": [
    "nn_predictions = []\n",
    "for model in models:\n",
    "  nn_predictions.append(compute_predictions(model))\n",
    "nn_predictions = np.array(nn_predictions)"
   ]
  },
  {
   "cell_type": "code",
   "execution_count": null,
   "metadata": {
    "colab": {
     "base_uri": "https://localhost:8080/",
     "height": 614
    },
    "colab_type": "code",
    "id": "rOusTLuFpS0f",
    "outputId": "e6f9799c-e182-4d9d-973c-b5cc30828516"
   },
   "outputs": [],
   "source": [
    "plot_result(test_Y,np.average(nn_predictions,axis=0))"
   ]
  },
  {
   "cell_type": "code",
   "execution_count": null,
   "metadata": {
    "colab": {},
    "colab_type": "code",
    "id": "PY9-DIzYpm2b"
   },
   "outputs": [],
   "source": [
    "from scipy.stats import entropy\n",
    "nn_entropies = entropy([nn_predictions,1-nn_predictions],base = 2)\n",
    "nn_pred = np.average(nn_predictions,axis=0, weights=1-nn_entropies)"
   ]
  },
  {
   "cell_type": "code",
   "execution_count": null,
   "metadata": {
    "colab": {
     "base_uri": "https://localhost:8080/",
     "height": 614
    },
    "colab_type": "code",
    "id": "IJvCH0JTptSo",
    "outputId": "7922892f-c3b9-43af-d314-375b0be5aef6"
   },
   "outputs": [],
   "source": [
    "plot_result(test_Y,nn_pred)"
   ]
  },
  {
   "cell_type": "code",
   "execution_count": null,
   "metadata": {
    "colab": {},
    "colab_type": "code",
    "id": "i5UYeAdd3zBK"
   },
   "outputs": [],
   "source": [
    "import pandas as pd \n",
    "\n",
    "def parse(x):\n",
    "  return np.array(x.strip('][').split(', '),dtype=np.float32)\n",
    "  \n",
    "def build_dataset(df):\n",
    "  df['Embedding'] = df['Embedding'].apply(lambda x: parse(x))\n",
    "  values = df['Embedding'].values\n",
    "  X = np.array([el for el in values])\n",
    "  #Y = df[df.columns[1:-1]].values\n",
    "  return X"
   ]
  },
  {
   "cell_type": "markdown",
   "metadata": {
    "colab_type": "text",
    "id": "jaPLPh0a4Nnp"
   },
   "source": [
    "# XGBoost"
   ]
  },
  {
   "cell_type": "markdown",
   "metadata": {
    "colab_type": "text",
    "id": "x3Ed91Dt_UHw"
   },
   "source": [
    "Link alla cartella contenente i modelli trainati: https://drive.google.com/open?id=14GfK5ix7iwtFaRVnz5zXjLGGoT1I9e4v"
   ]
  },
  {
   "cell_type": "code",
   "execution_count": null,
   "metadata": {
    "colab": {},
    "colab_type": "code",
    "id": "EnDRSsNC3VLf"
   },
   "outputs": [],
   "source": [
    "import xgboost as xgb\n",
    "import os\n",
    "import pandas as pd\n",
    "model_name = ['DenseNet121','DenseNet169','DenseNet201',\n",
    "              'VGG16','VGG19','Xception','InceptionResNetV2']\n",
    "model_base_path = '/content/drive/My Drive/XGBoost'\n",
    "embedding_base_path = '/content/drive/My Drive/Embedding'\n",
    "\n",
    "predictions = []\n",
    "for name in model_name:\n",
    "  dataset_name = 'test_{}.csv'.format(name.lower())\n",
    "  dataset = pd.read_csv(os.path.join(embedding_base_path,name,dataset_name))\n",
    "  test_X = build_dataset(dataset)\n",
    "\n",
    "  model_pred = []\n",
    "  dtest = xgb.DMatrix(test_X)\n",
    "  for i in range(14):\n",
    "    filename = 'xgboost_lab_{}.joblib'.format(i)\n",
    "    model = load(os.path.join(model_base_path,name,filename))\n",
    "    model_pred.append(model.predict(dtest))\n",
    "\n",
    "  predictions.append(np.array(model_pred).T)\n"
   ]
  },
  {
   "cell_type": "code",
   "execution_count": null,
   "metadata": {
    "colab": {
     "base_uri": "https://localhost:8080/",
     "height": 614
    },
    "colab_type": "code",
    "id": "R4U1-ROC4DEC",
    "outputId": "3ae73104-5ddd-413f-e6b1-fb01d3c17592"
   },
   "outputs": [],
   "source": [
    "plot_result(test_Y,np.average(predictions,axis=0))"
   ]
  },
  {
   "cell_type": "markdown",
   "metadata": {
    "colab_type": "text",
    "id": "LBn4sGl0wLoA"
   },
   "source": [
    "# Final Result"
   ]
  },
  {
   "cell_type": "markdown",
   "metadata": {
    "colab_type": "text",
    "id": "LvWD8leu_eys"
   },
   "source": [
    "Link ai file contenenti le predizioni: https://drive.google.com/open?id=1746ztMAbqPrihRUWTuj5iOxcKn27zUQn"
   ]
  },
  {
   "cell_type": "code",
   "execution_count": null,
   "metadata": {
    "colab": {},
    "colab_type": "code",
    "id": "dlmlcjfDD00i"
   },
   "outputs": [],
   "source": [
    "import numpy as np\n",
    "rf_predictions = np.load('/content/drive/My Drive/Predictions/nn_pred_no_entropy.npy')\n",
    "nn_predictions = np.load('/content/drive/My Drive/Predictions/rf_pred_no_entropy.npy')\n",
    "xgb_predictions = np.load('/content/drive/My Drive/Predictions/xgb_pred_no_entropy.npy')"
   ]
  },
  {
   "cell_type": "code",
   "execution_count": null,
   "metadata": {
    "colab": {},
    "colab_type": "code",
    "id": "oH5_KJqCD31S"
   },
   "outputs": [],
   "source": [
    "from scipy.stats import entropy\n",
    "rf_entropies = entropy([rf_predictions,1-rf_predictions],base = 2)\n",
    "nn_entropies = entropy([nn_predictions,1-nn_predictions],base = 2)\n",
    "xgb_entropies = entropy([xgb_predictions,1-xgb_predictions],base = 2)"
   ]
  },
  {
   "cell_type": "code",
   "execution_count": null,
   "metadata": {
    "colab": {},
    "colab_type": "code",
    "id": "NV00SqnUvuj1"
   },
   "outputs": [],
   "source": [
    "rf_pred = np.average(rf_predictions,axis=0, weights=1-rf_entropies)\n",
    "nn_pred = np.average(nn_predictions,axis=0, weights=1-nn_entropies)\n",
    "xgb_pred = np.average(xgb_predictions,axis=0,weights=1-xgb_entropies)"
   ]
  },
  {
   "cell_type": "code",
   "execution_count": null,
   "metadata": {
    "colab": {},
    "colab_type": "code",
    "id": "lVTZ5ykkv4lR"
   },
   "outputs": [],
   "source": [
    "final_predictions = np.average([rf_pred,nn_pred,xgb_pred],axis=0)"
   ]
  },
  {
   "cell_type": "code",
   "execution_count": null,
   "metadata": {
    "colab": {
     "base_uri": "https://localhost:8080/",
     "height": 614
    },
    "colab_type": "code",
    "id": "f9_cuqc3wCu9",
    "outputId": "f622c3dd-1034-49a9-a995-cca6e9711775"
   },
   "outputs": [],
   "source": [
    "plot_result(test_Y,final_predictions)"
   ]
  },
  {
   "cell_type": "code",
   "execution_count": null,
   "metadata": {
    "colab": {},
    "colab_type": "code",
    "id": "8Qub2kTIwFYl"
   },
   "outputs": [],
   "source": [
    "fin_pred = np.load('/content/drive/My Drive/Predictions/final_predictions.npy')\n",
    "thresholds = np.load('/content/drive/My Drive/Predictions/thresholds.npy')\n",
    "\n",
    "for i in range(fin_pred.shape[1]):\n",
    "  threshold = thresholds[i]\n",
    "  negative_label = (np.logical_and(fin_pred[:,i] >=0, fin_pred[:,i] <threshold-0.15*threshold))\n",
    "  uncertain = (np.logical_and(fin_pred[:,i]>=threshold-0.15*threshold, fin_pred[:,i]<=threshold+0.15*threshold))\n",
    "  positive_label = (np.logical_and(fin_pred[:,i]>=threshold+0.15*threshold, fin_pred[:,i]<=1))\n",
    "  fin_pred[:,i][negative_label] = 0\n",
    "  fin_pred[:,i][uncertain] = -1\n",
    "  fin_pred[:,i][positive_label] = 1\n"
   ]
  },
  {
   "cell_type": "code",
   "execution_count": null,
   "metadata": {
    "colab": {},
    "colab_type": "code",
    "id": "fDs2cZG_wdnd"
   },
   "outputs": [],
   "source": [
    "def compute_confusion_matrix(true_labels,predicted_labels):\n",
    "  tp = 0 \n",
    "  tn = 0 \n",
    "  fp = 0 \n",
    "  fn = 0 \n",
    "  uncertain = 0 \n",
    "  for true,predicted in zip(true_labels,predicted_labels):\n",
    "    if predicted == -1:\n",
    "      uncertain += 1\n",
    "    if true == 1 and predicted == 1:\n",
    "      tp += 1\n",
    "    if true == 0 and predicted == 0:\n",
    "      tn += 1\n",
    "    if true == 0 and predicted == 1:\n",
    "      fp +=1\n",
    "    if true == 1 and predicted == 0:\n",
    "      fn +=1\n",
    "  return np.array([[tp,fn],[fp,tn]]),uncertain\n",
    "\n"
   ]
  },
  {
   "cell_type": "code",
   "execution_count": null,
   "metadata": {
    "colab": {
     "base_uri": "https://localhost:8080/",
     "height": 1000
    },
    "colab_type": "code",
    "id": "-M7hUM15wd7t",
    "outputId": "fb10099a-768c-4be8-847f-3d356461ad9e"
   },
   "outputs": [],
   "source": [
    "import seaborn as sns\n",
    "\n",
    "idxs = [2,5,6,8,10]\n",
    "label_name = ['No Finding', 'Enlarged Cardiomediastinum', 'Cardiomegaly', 'Lung Opacity', 'Lung Lesion', 'Edema', 'Consolidation', 'Pneumonia', 'Atelectasis',\n",
    "                'Pneumothorax', 'Pleural Effusion', 'Pleural Other', 'Fracture', 'Support Devices']\n",
    "\n",
    "for i in idxs:\n",
    "  cm, uncertain = compute_confusion_matrix(test_Y[:,i],fin_pred[:,i])\n",
    "  fig = plt.figure(figsize=(5,5))\n",
    "  sns.heatmap(cm,annot=True,fmt='d',cmap='Reds',cbar = False,yticklabels=[1,0],xticklabels=[1,0])\n",
    "  plt.ylabel('True label')\n",
    "  plt.xlabel('Predicted label')\n",
    "  plt.title('{}'.format(label_name[i]))\n",
    "  plt.show()\n",
    "  spec = cm[1][1] / (cm[1][1] + cm[1][0])\n",
    "  sensib = cm[0][0] / (cm[0][0] + cm[0][1])\n",
    "  prec = cm[0][0] / (cm[0][0] + cm[1][0])\n",
    "  f1 = (2*prec*sensib)/(prec+sensib)\n",
    "  print('Uncertain labels: {}'.format(uncertain))\n",
    " "
   ]
  },
  {
   "cell_type": "code",
   "execution_count": null,
   "metadata": {
    "colab": {},
    "colab_type": "code",
    "id": "B49J9ByXwf6o"
   },
   "outputs": [],
   "source": []
  }
 ],
 "metadata": {
  "accelerator": "GPU",
  "colab": {
   "collapsed_sections": [],
   "include_colab_link": true,
   "machine_shape": "hm",
   "name": "Chexpert Classification.ipynb",
   "provenance": [],
   "toc_visible": true
  },
  "kernelspec": {
   "display_name": "Python 3",
   "language": "python",
   "name": "python3"
  },
  "language_info": {
   "codemirror_mode": {
    "name": "ipython",
    "version": 3
   },
   "file_extension": ".py",
   "mimetype": "text/x-python",
   "name": "python",
   "nbconvert_exporter": "python",
   "pygments_lexer": "ipython3",
   "version": "3.6.9"
  }
 },
 "nbformat": 4,
 "nbformat_minor": 4
}
