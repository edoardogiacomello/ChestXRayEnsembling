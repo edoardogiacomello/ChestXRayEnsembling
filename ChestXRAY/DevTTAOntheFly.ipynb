{
 "cells": [
  {
   "cell_type": "code",
   "execution_count": 2,
   "metadata": {},
   "outputs": [],
   "source": [
    "import tensorflow as tf\n",
    "physical_devices = tf.config.experimental.list_physical_devices('GPU')\n",
    "if len(physical_devices) > 0:\n",
    "    tf.config.experimental.set_memory_growth(physical_devices[0], True)\n",
    "else:\n",
    "    print(\"No GPU found, model running on CPU\")\n",
    "import tensorflow_addons as tfa\n",
    "from skimage.transform import warp, AffineTransform\n",
    "import matplotlib.pyplot as plt\n",
    "import numpy as np\n",
    "import os\n",
    "import glob\n",
    "import pandas as pd\n",
    "import math\n",
    "import seaborn as sns\n",
    "tf.random.set_seed(42)\n",
    "from sklearn.metrics import roc_curve, auc\n",
    "import matplotlib.pyplot as plt"
   ]
  },
  {
   "cell_type": "code",
   "execution_count": 3,
   "metadata": {},
   "outputs": [],
   "source": [
    "dummy_labels = ['No Finding', 'Enlarged Cardiomediastinum', 'Cardiomegaly', 'Lung Opacity', 'Lung Lesion', 'Edema', 'Consolidation', 'Pneumonia', 'Atelectasis',\n",
    "                'Pneumothorax', 'Pleural Effusion', 'Pleural Other', 'Fracture', 'Support Devices']\n"
   ]
  },
  {
   "cell_type": "code",
   "execution_count": 4,
   "metadata": {},
   "outputs": [],
   "source": [
    "\n",
    "def record_parser(example, image_size=224):\n",
    "    example_fmt = {\n",
    "        'label': tf.io.FixedLenFeature([14], tf.float32),\n",
    "        'image': tf.io.FixedLenFeature([],tf.string, default_value='')}\n",
    "    parsed = tf.io.parse_single_example(example, example_fmt)\n",
    "    image = tf.io.decode_png(parsed[\"image\"],channels=3)\n",
    "    image.set_shape([image_size, image_size, 3])\n",
    "    image = tf.image.convert_image_dtype(image, tf.float32)\n",
    "    return image, parsed['label']\n",
    "\n",
    "def normalize_image(img,labels):\n",
    "    imagenet_mean = np.array([0.485, 0.456, 0.406])\n",
    "    imagenet_std = np.array([0.229, 0.224, 0.225])\n",
    "    img = (img - imagenet_mean) / imagenet_std\n",
    "    return img,labels\n",
    "\n",
    "def make_dataset(filename, image_size=224):\n",
    "  base_path = 'datasets/'\n",
    "  full_path = os.path.join(base_path,filename)\n",
    "  dataset = tf.data.TFRecordDataset(full_path)\n",
    "  parser = lambda x, size=image_size: record_parser(x, image_size=size)\n",
    "  parsed_dataset = dataset.map(parser,num_parallel_calls = tf.data.experimental.AUTOTUNE)\n",
    "  parsed_dataset = parsed_dataset.map(normalize_image,num_parallel_calls = tf.data.experimental.AUTOTUNE)\n",
    "  return parsed_dataset\n",
    "\n",
    "batch_size = 64\n",
    "\n",
    "@tf.function\n",
    "def apply_random_scaling(image, minval=-.02, maxval=.02):\n",
    "    param = tf.random.uniform([], minval=minval, maxval=maxval)\n",
    "    \n",
    "    return output, param\n",
    "\n",
    "def apply_random_shearing(image, minval=-5., maxval=5.):\n",
    "    #param = tf.random.uniform([], minval=tf.math.atan(minval/image.shape[1]), maxval=tf.math.atan(maxval/image.shape[1]))\n",
    "    #param = tf.random.uniform([], minval=tf.math.atan(), maxval=tf.math.atan(maxval/image.shape[1]))\n",
    "    param = np.random.uniform(low=minval, high=maxval)\n",
    "    output = warp(np.array(image), AffineTransform(shear=np.arctan(param/image.shape[1])).inverse)\n",
    "    return output, param\n",
    "@tf.function\n",
    "def apply_random_rotation(image, minval=-7, maxval=7):\n",
    "    param = tf.random.uniform([], minval=minval, maxval=maxval)\n",
    "    output = tfa.image.rotate(image, param*math.pi/180.0, interpolation='BILINEAR')\n",
    "    return output, param\n",
    "\n",
    "\n",
    "@tf.function\n",
    "def apply_tta(image, labels, magnitude=tf.constant(1.0)):\n",
    "    \n",
    "    if magnitude <= 0.0:\n",
    "        return {'x': [image]*10, 'y': [labels]*10, 'method': ['NO_TTA']*10, 'param':[0.0]*10}\n",
    "    \n",
    "    scaling_min=-.02*magnitude\n",
    "    scaling_max=.02*magnitude\n",
    "    rotation_min=-7*magnitude\n",
    "    rotation_max=7*magnitude\n",
    "    augmented_samples = {'x': list(), 'y': list(), 'method': list(), 'param':list()}\n",
    "    \n",
    "    output = image\n",
    "    param = tf.constant(0.0)\n",
    "    \n",
    "    # NO-FLIP\n",
    "    augmented_samples['x'].append(image)\n",
    "    augmented_samples['y'].append(labels)\n",
    "    augmented_samples['param'].append(param)\n",
    "    augmented_samples['method'].append('NOFLIP/ORIGINAL')\n",
    "        \n",
    "    # NO-FLIP + ROTATION\n",
    "    for i in range(1, 3):\n",
    "        param = tf.random.uniform([], minval=rotation_min, maxval=rotation_max)\n",
    "        output = tfa.image.rotate(image, param*math.pi/180.0, interpolation='BILINEAR')\n",
    "        augmented_samples['x'].append(output)\n",
    "        augmented_samples['y'].append(labels)\n",
    "        augmented_samples['param'].append(param)\n",
    "        augmented_samples['method'].append('NOFLIP/ROTATION')    \n",
    "    \n",
    "    # NO-FLIP + SCALING\n",
    "    for i in range(1, 3):\n",
    "        param = tf.random.uniform([], minval=scaling_min, maxval=scaling_max)\n",
    "        source_size = image.shape\n",
    "        target_size = tf.cast(source_size[0]*(1.0+param), tf.int32), tf.cast(source_size[1]*(1.0+param), tf.int32)\n",
    "        output = tf.image.resize_with_crop_or_pad(tf.image.resize(image, target_size), source_size[0], source_size[1])\n",
    "        \n",
    "        augmented_samples['x'].append(output)\n",
    "        augmented_samples['y'].append(labels)\n",
    "        augmented_samples['param'].append(param)\n",
    "        augmented_samples['method'].append('NOFLIP/SCALING') \n",
    "    \n",
    "    flip = tf.image.flip_left_right(image)\n",
    "    param = tf.constant(0.0)\n",
    "    \n",
    "    # NO-FLIP\n",
    "    augmented_samples['x'].append(flip)\n",
    "    augmented_samples['y'].append(labels)\n",
    "    augmented_samples['param'].append(param)\n",
    "    augmented_samples['method'].append('FLIP/ORIGINAL')\n",
    "        \n",
    "    # NO-FLIP + ROTATION\n",
    "    for i in range(1, 3):\n",
    "        param = tf.random.uniform([], minval=rotation_min, maxval=rotation_max)\n",
    "        output = tfa.image.rotate(flip, param*math.pi/180.0, interpolation='BILINEAR')\n",
    "        augmented_samples['x'].append(output)\n",
    "        augmented_samples['y'].append(labels)\n",
    "        augmented_samples['param'].append(param)\n",
    "        augmented_samples['method'].append('FLIP/ROTATION')    \n",
    "    \n",
    "    # NO-FLIP + SCALING\n",
    "    for i in range(1, 3):\n",
    "        param = tf.random.uniform([], minval=scaling_min, maxval=scaling_max)\n",
    "        source_size = flip.shape\n",
    "        target_size = tf.cast(source_size[0]*(1.0+param), tf.int32), tf.cast(source_size[1]*(1.0+param), tf.int32)\n",
    "        output = tf.image.resize_with_crop_or_pad(tf.image.resize(flip, target_size), source_size[0], source_size[1])\n",
    "        augmented_samples['x'].append(output)\n",
    "        augmented_samples['y'].append(labels)\n",
    "        augmented_samples['param'].append(param)\n",
    "        augmented_samples['method'].append('FLIP/SCALING') \n",
    "    \n",
    "    return augmented_samples\n",
    "    \n",
    "    \n",
    "def load_dataset_with_tta(filename, image_size=224, tta_magnitude=1.0):\n",
    "    base_path = 'datasets/'\n",
    "    full_path = os.path.join(base_path,filename)\n",
    "    dataset = tf.data.TFRecordDataset(full_path)\n",
    "    parser = lambda x, size=image_size: record_parser(x, image_size=size)\n",
    "    parsed_dataset = dataset.map(parser,num_parallel_calls = tf.data.experimental.AUTOTUNE)\n",
    "    parsed_dataset = parsed_dataset.map(normalize_image,num_parallel_calls = tf.data.experimental.AUTOTUNE)\n",
    "    custom_tta = lambda x, y: apply_tta(x, y, magnitude=tf.constant(tta_magnitude))\n",
    "    parsed_dataset = parsed_dataset.map(custom_tta,num_parallel_calls = tf.data.experimental.AUTOTUNE)\n",
    "    return parsed_dataset\n",
    "\n",
    "\n",
    "\n",
    "#train_dataset = make_dataset('training_cropped.tfrecords').shuffle(buffer_size=128).batch(batch_size, drop_remainder=True).prefetch(1)\n",
    "#val_dataset = make_dataset('validation_cropped.tfrecords').shuffle(buffer_size=128).batch(batch_size, drop_remainder=True).prefetch(1)\n",
    "#train_dataset = make_dataset('training_cropped.tfrecords').batch(batch_size, drop_remainder=True).prefetch(1)\n",
    "\n",
    "# UNCOMMENT TO ENABLE TRAINING\n",
    "# train_dataset = make_dataset('conditional_training.tfrecords').shuffle(buffer_size=128).batch(batch_size, drop_remainder=True).prefetch(1)\n",
    "#val_dataset = make_dataset('validation_cropped.tfrecords').batch(batch_size, drop_remainder=True).prefetch(1)\n",
    "#test_dataset = make_dataset('test_set_cropped.tfrecords').batch(batch_size, drop_remainder=False).prefetch(1)\n",
    "\n",
    "\n",
    "\n",
    "# TODO: Since we cannot convert the full pipeline to tensorflow (due to shearing depending on Skimage), the make tta dataset will:\n",
    "# 1) Compute the dataset if not already present at the given path (using the classical for structure)\n",
    "# 2) Load the dataset from npy files as a tensorflow dataset"
   ]
  },
  {
   "cell_type": "code",
   "execution_count": 3,
   "metadata": {},
   "outputs": [],
   "source": [
    "import matplotlib.pyplot as plt\n",
    "\n",
    "        #im = row['x'].numpy()\n",
    "\n",
    "#         plt.figure(figsize=(30,120))\n",
    "#         for i in range(row['x'].shape[0]):\n",
    "#             plt.subplot(1, row['x'].shape[0], i+1)\n",
    "#             plt.imshow(im[i])\n",
    "#             plt.title('mag: {}\\n'.format(magnitude) + str(row['method'][i].numpy()) + '\\n' +  str(row['param'][i].numpy()))\n",
    "#         plt.show()\n",
    "        break"
   ]
  },
  {
   "cell_type": "code",
   "execution_count": 5,
   "metadata": {},
   "outputs": [],
   "source": [
    "ENABLE_CONDITIONAL_TRAINING = True"
   ]
  },
  {
   "cell_type": "code",
   "execution_count": 7,
   "metadata": {},
   "outputs": [],
   "source": [
    "from tensorflow.keras.models import load_model\n",
    "\n",
    "def load_models(base_path):\n",
    "      models = []\n",
    "      model_names = sorted(os.listdir(base_path))\n",
    "      for model in model_names:\n",
    "        print('loading model: {}'.format(model))\n",
    "        models.append(load_model(os.path.join(base_path,model)))\n",
    "      return models, model_names\n",
    "\n",
    "if ENABLE_CONDITIONAL_TRAINING:\n",
    "    model_names = ['DenseNet121','DenseNet169','DenseNet201','VGG16','VGG19','Xception','InceptionResNetV2']\n",
    "\n",
    "    models = []\n",
    "    for el in model_names:\n",
    "      mod = load_model('ConditionalTraining/{}/FineTuning/model-05.hdf5'.format(el))\n",
    "      models.append(mod)\n",
    "else:\n",
    "    base_path = './Models/'\n",
    "    models, model_names = load_models(base_path)\n",
    "    \n",
    "    \n",
    "embedding_models = list()\n",
    "for model in models:\n",
    "    x = model.layers[-2].output\n",
    "    embedding_models.append(tf.keras.Model(inputs=model.input, outputs=x))"
   ]
  },
  {
   "cell_type": "code",
   "execution_count": null,
   "metadata": {},
   "outputs": [],
   "source": [
    "tta_predictions = list()\n",
    "test_Y = list() # Predictions of shape (dataset_images, labels)\n",
    "test_Y_tta = list() # Predictions of shape (augmented_images, labels), where augmented_images = 10*dataset_images, samples are grouped for 10 augmentations on the same images (a0,a1,...,a9, b0, b1, b9..)\n",
    "for augmented_block, label in tta_dataset:\n",
    "    test_Y.append(label.numpy())\n",
    "    models_predictions = list()\n",
    "    for model in models:\n",
    "        models_predictions.append(np.stack([predict(model, img[tf.newaxis, ...], ENABLE_CONDITIONAL_TRAINING) for img in tf.unstack(augmented_block)]))\n",
    "    tta_predictions.append(np.stack(models_predictions))\n",
    "    for augmented_img in range(augmented_block.shape[0]):\n",
    "            test_Y_tta.append(label)\n",
    "test_Y = np.array(test_Y) \n",
    "test_Y_tta =np.array(test_Y_tta)\n",
    "tta_predictions = np.stack(tta_predictions).squeeze().transpose(1, 0, 2, 3) # Prediction for each augmented image and model\n",
    "tta_prediction_means = tta_predictions.mean(axis=2)\n",
    "tta_predictions = tta_predictions.reshape((tta_predictions.shape[0], tta_predictions.shape[1]*tta_predictions.shape[2], tta_predictions.shape[3]))"
   ]
  },
  {
   "cell_type": "code",
   "execution_count": 7,
   "metadata": {},
   "outputs": [],
   "source": [
    "def apply_bayes_to_predictions(predictions):\n",
    "  predictions[:,5] = predictions[:,3] * predictions[:,5]\n",
    "  predictions[:,6] = predictions[:,3] * predictions[:,6]\n",
    "  predictions[:,7] = predictions[:,3] * predictions[:,7]\n",
    "  predictions[:,4] = predictions[:,3] * predictions[:,4]\n",
    "  predictions[:,8] = predictions[:,3] * predictions[:,8]\n",
    "  predictions[:,2] = predictions[:,1] * predictions[:,2]\n",
    "  return predictions\n",
    "\n",
    "def predict(model, input_, conditional_training):\n",
    "    predictions = model.predict(input_)\n",
    "    if conditional_training:\n",
    "        return apply_bayes_to_predictions(predictions)\n",
    "    else:\n",
    "        return predictions"
   ]
  },
  {
   "cell_type": "code",
   "execution_count": 76,
   "metadata": {},
   "outputs": [
    {
     "name": "stdout",
     "output_type": "stream",
     "text": [
      " Magnitude 3 Sample 100"
     ]
    }
   ],
   "source": [
    "MAGNITUDES = [0.0, 1.0, 1.5, 2.]\n",
    "predictions = [list() for m in MAGNITUDES]\n",
    "labels = [list() for m in MAGNITUDES]\n",
    "tta_params = pd.DataFrame(columns=['sample', 'magnitude', 'method', 'param'])\n",
    "\n",
    "for m, magnitude in enumerate(MAGNITUDES):\n",
    "    dset = load_dataset_with_tta('test_set_cropped.tfrecords', tta_magnitude=magnitude)\n",
    "    for r, row in enumerate(dset):\n",
    "        print('\\r Magnitude {} Sample {}'.format(m, r), end='')\n",
    "        pred = list()\n",
    "        for model, embedding_model in zip(models, embedding_models):\n",
    "            pred.append(predict(model, row['x'], ENABLE_CONDITIONAL_TRAINING))\n",
    "            \n",
    "            # Embeddings\n",
    "            \n",
    "            \n",
    "            \n",
    "        pred = np.array(pred)\n",
    "        predictions[m].append(pred)\n",
    "        labels[m].append([row['y'].numpy() for m in models])\n",
    "        \n",
    "        for method, param in zip(row['method'].numpy(), row['param'].numpy()):\n",
    "            tta_params = tta_params.append({'sample': r, 'magnitude': magnitude, 'method': method.decode('utf8'), 'param':param}, ignore_index=True)\n",
    "        \n",
    "        # TODO: REMOVE THIS\n",
    "        if r == 100:\n",
    "            break\n",
    "    \n",
    "predictions = np.array(predictions).transpose(0, 1, 3, 2, 4) # Shape (Magnitudes, Samples, Augmentations, Models, Labels)\n",
    "labels = np.array(labels).transpose(0, 1, 3, 2, 4) # Shape (Magnitudes, Samples, Models, Augmentations, Models, Labels)"
   ]
  },
  {
   "cell_type": "code",
   "execution_count": 9,
   "metadata": {},
   "outputs": [
    {
     "data": {
      "text/plain": [
       "'model_1'"
      ]
     },
     "execution_count": 9,
     "metadata": {},
     "output_type": "execute_result"
    }
   ],
   "source": [
    "model.name"
   ]
  },
  {
   "cell_type": "code",
   "execution_count": 78,
   "metadata": {},
   "outputs": [
    {
     "data": {
      "text/plain": [
       "(4, 1010, 7, 14)"
      ]
     },
     "execution_count": 78,
     "metadata": {},
     "output_type": "execute_result"
    }
   ],
   "source": [
    "predictions_merged.shape"
   ]
  },
  {
   "cell_type": "code",
   "execution_count": 79,
   "metadata": {},
   "outputs": [
    {
     "data": {
      "image/png": "[encoded data removed]",
      "text/plain": [
       "<Figure size 2160x360 with 8 Axes>"
      ]
     },
     "metadata": {
      "needs_background": "light"
     },
     "output_type": "display_data"
    }
   ],
   "source": []
  },
  {
   "cell_type": "code",
   "execution_count": 85,
   "metadata": {},
   "outputs": [
    {
     "name": "stdout",
     "output_type": "stream",
     "text": [
      "(None, 1024)\n",
      "(None, 1664)\n",
      "(None, 1920)\n",
      "(None, 512)\n",
      "(None, 512)\n",
      "(None, 2048)\n",
      "(None, 1536)\n"
     ]
    }
   ],
   "source": [
    "for model in models:\n",
    "\n",
    "    print(x.shape)"
   ]
  },
  {
   "cell_type": "code",
   "execution_count": null,
   "metadata": {},
   "outputs": [],
   "source": []
  }
 ],
 "metadata": {
  "kernelspec": {
   "display_name": "Python 3",
   "language": "python",
   "name": "python3"
  },
  "language_info": {
   "codemirror_mode": {
    "name": "ipython",
    "version": 3
   },
   "file_extension": ".py",
   "mimetype": "text/x-python",
   "name": "python",
   "nbconvert_exporter": "python",
   "pygments_lexer": "ipython3",
   "version": "3.6.9"
  }
 },
 "nbformat": 4,
 "nbformat_minor": 4
}
