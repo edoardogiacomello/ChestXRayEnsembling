{
 "metadata": {
  "language_info": {
   "codemirror_mode": {
    "name": "ipython",
    "version": 3
   },
   "file_extension": ".py",
   "mimetype": "text/x-python",
   "name": "python",
   "nbconvert_exporter": "python",
   "pygments_lexer": "ipython3",
   "version": "3.8.6-final"
  },
  "orig_nbformat": 2,
  "kernelspec": {
   "name": "python3",
   "display_name": "Python 3",
   "language": "python"
  }
 },
 "nbformat": 4,
 "nbformat_minor": 2,
 "cells": [
  {
   "cell_type": "code",
   "execution_count": 1,
   "metadata": {},
   "outputs": [],
   "source": [
    "import pandas as pd\n",
    "import numpy as np"
   ]
  },
  {
   "cell_type": "code",
   "execution_count": 2,
   "metadata": {},
   "outputs": [
    {
     "output_type": "execute_result",
     "data": {
      "text/plain": [
       "(1003, 18)"
      ]
     },
     "metadata": {},
     "execution_count": 2
    }
   ],
   "source": [
    "df=pd.read_excel(\"C:\\\\Users\\\\ngozzi\\\\Documents\\\\Progetti_HUM\\\\X-ray\\\\X-ray\\\\X_ray_database_py.xls\")\n",
    "df.shape"
   ]
  },
  {
   "cell_type": "code",
   "execution_count": 3,
   "metadata": {},
   "outputs": [
    {
     "output_type": "execute_result",
     "data": {
      "text/plain": [
       "(987, 18)"
      ]
     },
     "metadata": {},
     "execution_count": 3
    }
   ],
   "source": [
    "df.drop(df[(df['Summary'].isnull()) ].index, inplace=True)\n",
    "df.shape"
   ]
  },
  {
   "cell_type": "code",
   "execution_count": 4,
   "metadata": {},
   "outputs": [],
   "source": [
    "key_finding_columns=df.columns[11:]\n",
    "def join_not_nan(list_elements):\n",
    "    return \"_\".join([x.lower() for x in list_elements if type(x) == str])\n",
    "\n",
    "df[\"all_outcomes\"] = df[key_finding_columns].agg(join_not_nan, axis=1)"
   ]
  },
  {
   "cell_type": "code",
   "execution_count": 5,
   "metadata": {},
   "outputs": [],
   "source": [
    "possible_outcomes=['Medias', 'Pleura', 'Diaphragm', 'Device', 'Other', 'GI', 'PNX', 'Cardiac', 'Lung', 'Bone', 'Vascular']\n",
    "for outcome in possible_outcomes:\n",
    "    def get_outcome(element):\n",
    "        return 1 if outcome.lower() in element.split(\"_\") else 0\n",
    "    df[outcome] = df[\"all_outcomes\"].apply(get_outcome)"
   ]
  },
  {
   "cell_type": "code",
   "execution_count": 6,
   "metadata": {},
   "outputs": [],
   "source": [
    "def getNormal(element):\n",
    "    return 1 if str(element).lower() == \"normal\" else 0\n",
    "df['Normal'] = df[\"Summary\"].apply(getNormal)"
   ]
  },
  {
   "cell_type": "code",
   "execution_count": 7,
   "metadata": {},
   "outputs": [],
   "source": [
    "import pickle\n",
    "df.to_pickle(\"Xray_database_py_correctlabels.pkl\")"
   ]
  },
  {
   "cell_type": "code",
   "execution_count": null,
   "metadata": {},
   "outputs": [],
   "source": []
  }
 ]
}